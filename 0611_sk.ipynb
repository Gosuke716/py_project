{
 "cells": [
  {
   "cell_type": "markdown",
   "id": "0b86b3e7",
   "metadata": {},
   "source": [
    "### 2025년 6월 11일 SK 쉴더스 루키즈 파이썬"
   ]
  },
  {
   "cell_type": "code",
   "execution_count": 52,
   "id": "32017523",
   "metadata": {},
   "outputs": [],
   "source": [
    "# 함수: 데이터를 받고 처리(연산) 하고 결과를 반환하는 코드들의 묶음\n",
    "#      -> 호출을 통해 코드를 실행\n",
    "# 중복코드를 줄일 수 있다. => 유지보수, 관리가 수월해진다!\n",
    "# def 함수이름(매개변수, 매개변수, 매개변수, ...) :\n",
    "#   처리작업 코드들...\n",
    "#   return 값(data: 파이썬에서 제공하는 타입의 모든 데이터)\n",
    "# 리스트, 세트, 딕셔너리에도 함수를 담을 수 있다. [func, func, func,...]"
   ]
  },
  {
   "cell_type": "code",
   "execution_count": 1,
   "id": "f2f43d4e",
   "metadata": {},
   "outputs": [
    {
     "name": "stdout",
     "output_type": "stream",
     "text": [
      "3\n",
      "<class 'function'>\n"
     ]
    }
   ],
   "source": [
    "a = 1\n",
    "b = 2\n",
    "\n",
    "def add (a,b):\n",
    "    a + b\n",
    "    return a+b\n",
    "\n",
    "sum = add(a,b)\n",
    "print(sum)\n",
    "print(type(add))"
   ]
  },
  {
   "cell_type": "code",
   "execution_count": 14,
   "id": "1df0c319",
   "metadata": {},
   "outputs": [
    {
     "name": "stdout",
     "output_type": "stream",
     "text": [
      "\n",
      "    안녕하세요.\n",
      "    회원님\n",
      "    반갑습니다.\n",
      "    \n"
     ]
    }
   ],
   "source": [
    "# 매개변수가 없는 함수 (매개변수가 없더라고 괄호는 해야함)\n",
    "\n",
    "def alert_msg():\n",
    "    #...\n",
    "    msg = '''\n",
    "    안녕하세요.\n",
    "    회원님\n",
    "    반갑습니다.\n",
    "    '''\n",
    "    return msg\n",
    "\n",
    "print(alert_msg())"
   ]
  },
  {
   "cell_type": "code",
   "execution_count": 20,
   "id": "71e776c2",
   "metadata": {},
   "outputs": [
    {
     "name": "stdout",
     "output_type": "stream",
     "text": [
      "덧셈 결과는 1 + 2 = 3 입니다\n",
      "덧셈 결과는 1 + 2 = 3 입니다\n",
      "None\n"
     ]
    }
   ],
   "source": [
    "# 매개변수는 있고, 반환값이 없는 함수\n",
    "\n",
    "# 숫자 두개를 받아 덧셈연산의 결과를 출력하는 함수\n",
    "\n",
    "def print_sum(a ,b):\n",
    "    print(f'덧셈 결과는 {a} + {b} = {a+b} 입니다')\n",
    "    return\n",
    "\n",
    "print_sum(1, 2)\n",
    "\n",
    "result = print_sum(1,2)\n",
    "print(result)"
   ]
  },
  {
   "cell_type": "code",
   "execution_count": 26,
   "id": "15a56ff2",
   "metadata": {},
   "outputs": [
    {
     "name": "stdout",
     "output_type": "stream",
     "text": [
      "\n",
      "    1. 아메리카노\n",
      "    2. 카페라떼\n",
      "    3. 카푸치노\n",
      "    4. 에스프레소\n",
      "    \n"
     ]
    }
   ],
   "source": [
    "# 매개변수도 없고, 반환도 없는 함수(리턴 써도되고 안써도 됨)\n",
    "\n",
    "def display_menu():\n",
    "    menu = '''\n",
    "    1. 아메리카노\n",
    "    2. 카페라떼\n",
    "    3. 카푸치노\n",
    "    4. 에스프레소\n",
    "    '''\n",
    "    print(menu)\n",
    "    \n",
    "\n",
    "display_menu()"
   ]
  },
  {
   "cell_type": "code",
   "execution_count": 34,
   "id": "0233fcb1",
   "metadata": {},
   "outputs": [
    {
     "data": {
      "text/plain": [
       "7"
      ]
     },
     "execution_count": 34,
     "metadata": {},
     "output_type": "execute_result"
    }
   ],
   "source": [
    "def sub(n1, n2):\n",
    "    return n1 - n2\n",
    "\n",
    "sub(10, 3)\n",
    "sub(n2 = 3, n1 = 10) # 매개변수 지정 가능"
   ]
  },
  {
   "cell_type": "code",
   "execution_count": null,
   "id": "ac01cfa0",
   "metadata": {},
   "outputs": [
    {
     "name": "stdout",
     "output_type": "stream",
     "text": [
      "KING\thello\thi~~\n"
     ]
    }
   ],
   "source": [
    "# print 함수에 내장되어있는 매개변수 사용\n",
    "print('KING', 'hello', sep = '\\t', end='\\t')\n",
    "print('hi~~')"
   ]
  },
  {
   "cell_type": "code",
   "execution_count": 43,
   "id": "6f1dfc56",
   "metadata": {},
   "outputs": [
    {
     "name": "stdout",
     "output_type": "stream",
     "text": [
      "<class 'tuple'>\n",
      "(1, 2, 3, 4, 5)\n"
     ]
    },
    {
     "data": {
      "text/plain": [
       "15"
      ]
     },
     "execution_count": 43,
     "metadata": {},
     "output_type": "execute_result"
    }
   ],
   "source": [
    "# 매개변수가 여러개인데 몇개인지 모를 때\n",
    "# 매개변수에서 전달 되는 숫자들(몇개?)를\n",
    "# 모두 더한 값을\n",
    "# 반환하는 함수\n",
    "\n",
    "\n",
    "def add_sum(*args) :\n",
    "    print(type(args))\n",
    "    print(args)\n",
    "    sum = 0\n",
    "    for num in args:\n",
    "        sum += num\n",
    "    return sum\n",
    "\n",
    "add_sum(1,2,3,4,5)"
   ]
  },
  {
   "cell_type": "code",
   "execution_count": 44,
   "id": "5c60ab64",
   "metadata": {},
   "outputs": [
    {
     "data": {
      "text/plain": [
       "10"
      ]
     },
     "execution_count": 44,
     "metadata": {},
     "output_type": "execute_result"
    }
   ],
   "source": [
    "# 연산의 타입을 전달 받고 전달되는 숫자들을\n",
    "# 연산한 결과를\n",
    "# 반환 하는 함수\n",
    "\n",
    "#def add_type(*args, type): #틀림 (어디까지가 가변매개인지 모름)\n",
    "\n",
    "#def add_type(type, *args): #맞음 (어디까지가 가변매개인지 알음)\n",
    "\n",
    "def add_type(type, *args):\n",
    "    # add , mul\n",
    "    if type == 'add':\n",
    "        result = 0\n",
    "        for num in args:\n",
    "            result += num\n",
    "        return result\n",
    "    elif type == 'mul':\n",
    "        result = 1\n",
    "        for num in args:\n",
    "            result += num\n",
    "        return result\n",
    "\n",
    "add_type('add', 1,2,3,4)"
   ]
  },
  {
   "cell_type": "code",
   "execution_count": 50,
   "id": "50290df1",
   "metadata": {},
   "outputs": [
    {
     "name": "stdout",
     "output_type": "stream",
     "text": [
      "{'name': '손흥민', 'age': 20}\n",
      "<class 'dict'>\n",
      "{'name': '메시', 'age': 30}\n",
      "<class 'dict'>\n",
      "None\n"
     ]
    }
   ],
   "source": [
    "def print_args(**args):\n",
    "    print(args)\n",
    "    print(type(args))\n",
    "\n",
    "print_args(name = '손흥민', age = 20) # dictionary 타입으로 받음\n",
    "\n",
    "# player1 = {\n",
    "#     'name' = '손흥민',\n",
    "#     'age' = 20\n",
    "# }\n",
    "\n",
    "player2 = print_args(name = '메시', age = 30)\n",
    "\n",
    "# print(player1)\n",
    "print(player2)\n"
   ]
  },
  {
   "cell_type": "code",
   "execution_count": null,
   "id": "1a0fc7af",
   "metadata": {},
   "outputs": [
    {
     "name": "stdout",
     "output_type": "stream",
     "text": [
      "30 200\n"
     ]
    }
   ],
   "source": [
    "# 함수의 리턴값은 본래 하나지만 튜플 형식으로 반환받으면 가능은 하다다\n",
    "def add_mul_return (n1, n2):\n",
    "    add_result = n1 + n2\n",
    "    mul_result = n1 * n2\n",
    "    return (add_result, mul_result)\n",
    "\n",
    "add_mul_return(10, 20)\n",
    "result1, result2 = add_mul_return(10, 20) # 각각으로 받아주기기\n",
    "print(result1, result2)\n",
    "\n",
    "\n"
   ]
  },
  {
   "cell_type": "code",
   "execution_count": 2,
   "id": "73cfa057",
   "metadata": {},
   "outputs": [
    {
     "data": {
      "text/plain": [
       "1"
      ]
     },
     "execution_count": 2,
     "metadata": {},
     "output_type": "execute_result"
    }
   ],
   "source": [
    "# 매개변수의 기본값 설정\n",
    "def add2(n1=0 ,n2=0) :\n",
    "    return n1+n2\n",
    "\n",
    "add2(1)"
   ]
  },
  {
   "cell_type": "code",
   "execution_count": 3,
   "id": "70ca4254",
   "metadata": {},
   "outputs": [
    {
     "name": "stdout",
     "output_type": "stream",
     "text": [
      "안녕하세요. 저는 king입니다. 나이는 20입니다.\n",
      "남성입니다\n"
     ]
    }
   ],
   "source": [
    "# 이름, 나이, 성별 받아서 출력하는 함수\n",
    "def say_hi(name, age, gender = True): # Gender = True -> 여성\n",
    "    print(f'안녕하세요. 저는 {name}입니다. 나이는 {age}입니다.')\n",
    "    if gender: \n",
    "        print('여성입니다')\n",
    "    else:\n",
    "        print('남성입니다')\n",
    "\n",
    "say_hi('king', 20, False)\n"
   ]
  },
  {
   "cell_type": "code",
   "execution_count": 5,
   "id": "9ea2d151",
   "metadata": {},
   "outputs": [
    {
     "name": "stdout",
     "output_type": "stream",
     "text": [
      "함수 내부의 a : 10\n",
      "1\n",
      "2\n",
      "2\n"
     ]
    }
   ],
   "source": [
    "# 변수의 사용 범위\n",
    "\n",
    "a = 1\n",
    "\n",
    "def var_test(a):\n",
    "    print('함수 내부의 a :', a)\n",
    "\n",
    "var_test(10)\n",
    "print(a)\n",
    "\n",
    "def var_test2():\n",
    "    global a # 전역변수의 a를 함수 내부에서 사용하겠다고 선언\n",
    "             # 별로 추천하는 방법은 아님\n",
    "    a = a + 1 # 원래는 외부에 있는 변수를 계산할 수 는 없음\n",
    "    print(a)\n",
    "\n",
    "var_test2()\n",
    "print(a)"
   ]
  },
  {
   "cell_type": "code",
   "execution_count": 6,
   "id": "458eb7d3",
   "metadata": {},
   "outputs": [
    {
     "data": {
      "text/plain": [
       "function"
      ]
     },
     "execution_count": 6,
     "metadata": {},
     "output_type": "execute_result"
    }
   ],
   "source": [
    "# lambda 함수 => 한줄로 간단하게 표현하는 함수 표현식\n",
    "# 함수이름 = lambda 매개변수\n",
    "# 숫자 두개를 전달 받아 덧셈한 결과를 반환하는 함수\n",
    "\n",
    "add3 = lambda n1, n2 : n1+n2\n",
    "add3(100, 10)\n",
    "type(add3)"
   ]
  },
  {
   "cell_type": "code",
   "execution_count": 15,
   "id": "708131c9",
   "metadata": {},
   "outputs": [
    {
     "name": "stdout",
     "output_type": "stream",
     "text": [
      "10 king\n",
      "11 cool\n",
      "12 hot\n",
      "13 queen\n"
     ]
    }
   ],
   "source": [
    "# 내장 함수 : 파이썬 설치시 기본으로 제공하는 함수\n",
    "st_names = ['king', 'cool', 'hot', 'queen']\n",
    "\n",
    "# 학생들의 index 값을 함께 출력\n",
    "# num = 0\n",
    "# for name in st_names:\n",
    "#     print(num, name)\n",
    "#     num += 1\n",
    "\n",
    "# 위보다 내장함수 enumerate 사용하면 더 간단함\n",
    "for index, name in enumerate(st_names, start = 10):\n",
    "    print(index, name)"
   ]
  },
  {
   "cell_type": "code",
   "execution_count": 18,
   "id": "d468cef7",
   "metadata": {},
   "outputs": [
    {
     "data": {
      "text/plain": [
       "[3, 1, 9, 10, 4]"
      ]
     },
     "execution_count": 18,
     "metadata": {},
     "output_type": "execute_result"
    }
   ],
   "source": [
    "# filter: 필터링(매개변수로 전달되는 함수: 요소값을 판단해서 논리값 반환)을 통해 새로운 리스트 생성반환환\n",
    "# filter(fn, itr)\n",
    "def positive(l) :\n",
    "    result = []\n",
    "    for n in l :\n",
    "        if n > 0 :\n",
    "            result.append(n)\n",
    "    return result\n",
    "\n",
    "positive([3, 1, -1, -3, 0, 9, 10, 4])"
   ]
  },
  {
   "cell_type": "code",
   "execution_count": null,
   "id": "f5f6183a",
   "metadata": {},
   "outputs": [
    {
     "data": {
      "text/plain": [
       "[3, 1, 9, 10, 4]"
      ]
     },
     "execution_count": 26,
     "metadata": {},
     "output_type": "execute_result"
    }
   ],
   "source": [
    "# filter : 잘못된 데이터들을 걷어낼때 쓰는것\n",
    "# 판별함수\n",
    "def positive_fn(x) : # 판별함수 1: 양수 찾는 함수\n",
    "    return x > 0\n",
    "\n",
    "def positive_fn2(x): # 판별함수 2: 홀수 찾는 함수\n",
    "    return x % 2 == 1\n",
    "\n",
    "list(filter(positive_fn2, [3, 1, -1, -3, 0, 9, 10, 4]))\n",
    "\n",
    "\n",
    "#람다 쓰면 매우 간단!!!!!\n",
    "list(filter(lambda x : x > 0, [3, 1, -1, -3, 0, 9, 10, 4]))"
   ]
  },
  {
   "cell_type": "code",
   "execution_count": 29,
   "id": "edf83d44",
   "metadata": {},
   "outputs": [
    {
     "data": {
      "text/plain": [
       "[2, 4, 6, 8, 10]"
      ]
     },
     "execution_count": 29,
     "metadata": {},
     "output_type": "execute_result"
    }
   ],
   "source": [
    "# 원본 데이터의 값을 다룰 경우는 map 사용!\n",
    "list(map(lambda x : x * 2, [1,2,3,4,5]))"
   ]
  },
  {
   "cell_type": "code",
   "execution_count": 3,
   "id": "c265bdec",
   "metadata": {},
   "outputs": [
    {
     "data": {
      "text/plain": [
       "<function TextIOWrapper.close()>"
      ]
     },
     "execution_count": 3,
     "metadata": {},
     "output_type": "execute_result"
    }
   ],
   "source": [
    "# 파이썬의 입출력(자원)\n",
    "# 표준 입출력 => input, print\n",
    "# 텍스트 파일(자자원) : 입출력 I/O\n",
    "# 파일 단위 입출력 : open(자원의 경로, 모드) \n",
    "# 모드 => r(read), w(write), a(append)\n",
    "\n",
    "f = open('new_text.txt', 'w') # w는 대체해주는 역할\n",
    "f.close"
   ]
  },
  {
   "cell_type": "code",
   "execution_count": 7,
   "id": "d79e2a9e",
   "metadata": {},
   "outputs": [],
   "source": [
    "f = open('new_text.txt', 'w') # 1. 파일 오픈: w\n",
    "f.write('안녕하세요!!!!') #3. 텍스트 쓰기\n",
    "f.close()"
   ]
  },
  {
   "cell_type": "code",
   "execution_count": 9,
   "id": "41e4f117",
   "metadata": {},
   "outputs": [],
   "source": [
    "f = open('new_text.txt', 'w')\n",
    "for i in range(1, 11):\n",
    "    f.write(f'{i}번째 줄 입력 \\n')\n",
    "f.close()"
   ]
  },
  {
   "cell_type": "code",
   "execution_count": 16,
   "id": "12c45c64",
   "metadata": {},
   "outputs": [
    {
     "name": "stdout",
     "output_type": "stream",
     "text": [
      "1번째 줄 입력 \n",
      "2번째 줄 입력 \n",
      "3번째 줄 입력 \n",
      "4번째 줄 입력 \n",
      "5번째 줄 입력 \n",
      "6번째 줄 입력 \n",
      "7번째 줄 입력 \n",
      "8번째 줄 입력 \n",
      "9번째 줄 입력 \n",
      "10번째 줄 입력 \n"
     ]
    }
   ],
   "source": [
    "# 파일 내용 읽어오기기\n",
    "f = open('new_text.txt', 'r') # 1. 파일 열고, read\n",
    "# line1 = f.readline()\n",
    "# print(line1)\n",
    "# line2 = f.readline()\n",
    "# print(line2)\n",
    "\n",
    "while 1:\n",
    "    line = f.readline()\n",
    "    if not line:\n",
    "        break\n",
    "    print(line, end='')\n",
    "f.close()"
   ]
  },
  {
   "cell_type": "code",
   "execution_count": 19,
   "id": "1e9e22f7",
   "metadata": {},
   "outputs": [
    {
     "name": "stdout",
     "output_type": "stream",
     "text": [
      "['1번째 줄 입력 \\n', '2번째 줄 입력 \\n', '3번째 줄 입력 \\n', '4번째 줄 입력 \\n', '5번째 줄 입력 \\n', '6번째 줄 입력 \\n', '7번째 줄 입력 \\n', '8번째 줄 입력 \\n', '9번째 줄 입력 \\n', '10번째 줄 입력 \\n']\n"
     ]
    }
   ],
   "source": [
    "f = open('new_text.txt', 'r')\n",
    "lines = f.readlines()\n",
    "print(lines)\n",
    "f.close()"
   ]
  },
  {
   "cell_type": "code",
   "execution_count": 22,
   "id": "dbf6015e",
   "metadata": {},
   "outputs": [],
   "source": [
    "# append : 데이터추가\n",
    "f = open ('new_text.txt', 'a')\n",
    "f.write('새로운 행이 추가됩니다.\\n')\n",
    "f.close()"
   ]
  },
  {
   "cell_type": "code",
   "execution_count": 24,
   "id": "4e5e14f5",
   "metadata": {},
   "outputs": [],
   "source": [
    "# append : 데이터추가\n",
    "f = open ('new_text.txt', 'a')\n",
    "for i in range(16, 21):\n",
    "    f.write(f'새로운 행 {i} 이 추가됩니다.\\n')\n",
    "f.close()"
   ]
  },
  {
   "cell_type": "code",
   "execution_count": 26,
   "id": "619a7991",
   "metadata": {},
   "outputs": [
    {
     "name": "stdout",
     "output_type": "stream",
     "text": [
      "['1번째 줄 입력 \\n', '2번째 줄 입력 \\n', '3번째 줄 입력 \\n', '4번째 줄 입력 \\n', '5번째 줄 입력 \\n', '6번째 줄 입력 \\n', '7번째 줄 입력 \\n', '8번째 줄 입력 \\n', '9번째 줄 입력 \\n', '10번째 줄 입력 \\n', '새로운 행이 추가됩니다.\\n', '새로운 행이 추가됩니다.\\n', '새로운 행이 추가됩니다.\\n', '새로운 행이 추가됩니다.\\n', '새로운 행이 추가됩니다.\\n', '새로운 행이 추가됩니다.\\n', '새로운 행이 추가됩니다.\\n', '새로운 행 16 이 추가됩니다.\\n', '새로운 행 17 이 추가됩니다.\\n', '새로운 행 18 이 추가됩니다.\\n', '새로운 행 19 이 추가됩니다.\\n', '새로운 행 20 이 추가됩니다.\\n']\n"
     ]
    }
   ],
   "source": [
    "#close 생략 구현 = >with\n",
    "with open('new_text.txt', 'r') as file:\n",
    "    lines = file.readlines()\n",
    "    print(lines)"
   ]
  },
  {
   "cell_type": "code",
   "execution_count": null,
   "id": "e541e620",
   "metadata": {},
   "outputs": [
    {
     "name": "stdout",
     "output_type": "stream",
     "text": [
      "2.0\n",
      "프로그램을 종료합니다\n"
     ]
    }
   ],
   "source": [
    "# 예외처리 : 에러 발생시에 비정상적인 종료 막기 위한 처리\n",
    "try:\n",
    "    # print(10/5)\n",
    "    print(10/0) # 에러 예상 위치 ZeroDivisionError\n",
    "except:\n",
    "    pass #내가 아직 처리하지 않은 상태고 블럭을 빈 공간으로 유지하겠다 할때 쓰는 것\n",
    "    # print('에러가 발생했습니다. 에러에 대한 처리를 합니다')\n",
    "print('프로그램을 종료합니다')"
   ]
  },
  {
   "cell_type": "code",
   "execution_count": 47,
   "id": "8d7193d6",
   "metadata": {},
   "outputs": [
    {
     "name": "stdout",
     "output_type": "stream",
     "text": [
      "5.0\n",
      "에러가 발생했습니다. list index out of range\n"
     ]
    }
   ],
   "source": [
    "try : \n",
    "    print(10/2)\n",
    "    print(list_t[10])\n",
    "except ZeroDivisionError as e: \n",
    "    print('0으로 나누는 연산은 불가능 합니다.')\n",
    "    print(e)\n",
    "except (NameError, IndexError) as e :\n",
    "    # print('정의 되지 않은 식별자 입니다.')\n",
    "    print('에러가 발생했습니다.', e)\n",
    "# except IndexError as e:\n",
    "#     print('리스트의 index 범위에서 벗어났습니다.')\n",
    "#     print(e)\n",
    "except :\n",
    "    print('에러발생!!!')"
   ]
  },
  {
   "cell_type": "code",
   "execution_count": 50,
   "id": "7772af22",
   "metadata": {},
   "outputs": [
    {
     "name": "stdout",
     "output_type": "stream",
     "text": [
      "hello\n",
      "error!!\n",
      "world\n"
     ]
    }
   ],
   "source": [
    "# finally: -> 에러 발생 여부와 상관없이 실행 되어야 하는 블록\n",
    "try:\n",
    "    print('hello')\n",
    "    print(10/0)\n",
    "except:\n",
    "    print('error!!')\n",
    "finally:\n",
    "    print('world')"
   ]
  },
  {
   "cell_type": "code",
   "execution_count": 52,
   "id": "130d2e8e",
   "metadata": {},
   "outputs": [
    {
     "name": "stdout",
     "output_type": "stream",
     "text": [
      "불가\n"
     ]
    }
   ],
   "source": [
    "try:\n",
    "    age = int(input('나이를 입력하세요'))\n",
    "except:\n",
    "    print('숫자 형식으로 입력해주세요')\n",
    "else:\n",
    "    if age > 18 :\n",
    "        print('입장')\n",
    "    else :\n",
    "        print('불가')"
   ]
  },
  {
   "cell_type": "code",
   "execution_count": null,
   "id": "17fed048",
   "metadata": {},
   "outputs": [],
   "source": [
    "# 사용자 정의 에외 타입 정리\n",
    "# 논리적인 오류 발생 -> 예외 처리\n",
    "# age => 음수, 500 : 논리적 오류\n",
    "\n",
    "class MyError(Exception):\n",
    "    pass\n",
    "\n",
    "# 에러 강제 발생\n",
    "raise MyError()"
   ]
  },
  {
   "cell_type": "code",
   "execution_count": 64,
   "id": "4fb7bb4f",
   "metadata": {},
   "outputs": [
    {
     "name": "stdout",
     "output_type": "stream",
     "text": [
      "130\n"
     ]
    }
   ],
   "source": [
    "try:\n",
    "    age = int(input('나이를 입력하세요.'))\n",
    "    if age < 1 or age > 200 :\n",
    "        raise MyError()\n",
    "except MyError:\n",
    "    print('나이의 입력범위는 1~200 입니다. \\n 다시 입력하세요.')\n",
    "except :\n",
    "    print('다시 입력하세요.')\n",
    "else:\n",
    "    print(age)"
   ]
  }
 ],
 "metadata": {
  "kernelspec": {
   "display_name": ".venv",
   "language": "python",
   "name": "python3"
  },
  "language_info": {
   "codemirror_mode": {
    "name": "ipython",
    "version": 3
   },
   "file_extension": ".py",
   "mimetype": "text/x-python",
   "name": "python",
   "nbconvert_exporter": "python",
   "pygments_lexer": "ipython3",
   "version": "3.13.4"
  }
 },
 "nbformat": 4,
 "nbformat_minor": 5
}
