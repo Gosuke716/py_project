{
 "cells": [
  {
   "cell_type": "markdown",
   "id": "cf8d83f9",
   "metadata": {},
   "source": [
    "### 2025년 6월 13일 SK 쉴더스 루키즈 파이썬"
   ]
  },
  {
   "cell_type": "code",
   "execution_count": 11,
   "id": "bfb6ce99",
   "metadata": {},
   "outputs": [
    {
     "name": "stdout",
     "output_type": "stream",
     "text": [
      "10\n",
      "20\n",
      "30\n",
      "40\n",
      "40\n"
     ]
    }
   ],
   "source": [
    "# numpy\n",
    "# 인덱싱 : list와 사용방법이 같다\n",
    "import numpy as np\n",
    "\n",
    "arr = np.array([10, 20, 30, 40])\n",
    "print(arr[0])\n",
    "print(arr[1])\n",
    "print(arr[2])\n",
    "print(arr[3])\n",
    "print(arr[-1])"
   ]
  },
  {
   "cell_type": "code",
   "execution_count": 19,
   "id": "da30606d",
   "metadata": {},
   "outputs": [
    {
     "name": "stdout",
     "output_type": "stream",
     "text": [
      "[[1 2 3]\n",
      " [4 5 6]]\n",
      "2\n",
      "6\n"
     ]
    }
   ],
   "source": [
    "arr = np.array([[1,2,3],[4,5,6]]) # arr [행 인덱스][열 인덱스]\n",
    "print(arr)\n",
    "print(arr[0][1])\n",
    "print(arr[1][2])"
   ]
  },
  {
   "cell_type": "code",
   "execution_count": 26,
   "id": "26742040",
   "metadata": {},
   "outputs": [
    {
     "name": "stdout",
     "output_type": "stream",
     "text": [
      "[10 20 30 40 50]\n",
      "[10 20 30 40 50]\n",
      "[10 20 30 40]\n",
      "[40 50]\n",
      "[20 30 40]\n"
     ]
    }
   ],
   "source": [
    "# 슬라이싱\n",
    "arr = np.array([10, 20, 30, 40, 50])\n",
    "print(arr)\n",
    "print(arr[:]) # 처음부터 마지막까지\n",
    "print(arr[:4]) # 처음부터 시작, 4 인덱스 만나면 탈출\n",
    "print(arr[3:]) # 3인덱스부터 시작, 마지막까지\n",
    "print(arr[1:4]) # 1인덱스부터 시작, 4인덱스 만나면 탈출\n"
   ]
  },
  {
   "cell_type": "code",
   "execution_count": 30,
   "id": "4d5d797a",
   "metadata": {},
   "outputs": [
    {
     "name": "stdout",
     "output_type": "stream",
     "text": [
      "[[1 2 3]\n",
      " [4 5 6]\n",
      " [7 8 9]]\n",
      "[[2 3]\n",
      " [5 6]]\n"
     ]
    }
   ],
   "source": [
    "# 3 X 3 행렬 슬라이싱\n",
    "arr = np.array([[1,2,3],[4,5,6],[7,8,9]])\n",
    "print(arr)\n",
    "# arr[행,열]\n",
    "print(arr[:2,1:]) # 행부분은 처음부터 시작, 2 인덱스 만나면 탈출, 열부분은 1 인덱스 시작, 끝까지\n",
    "#  행> 0 1 2\n",
    "#    [[1,2,3]  0\n",
    "#     [4,5,6]  1\n",
    "#     [7,8,9]] 2\n",
    "#              열^\n",
    "#"
   ]
  },
  {
   "cell_type": "code",
   "execution_count": 38,
   "id": "c166a371",
   "metadata": {},
   "outputs": [
    {
     "name": "stdout",
     "output_type": "stream",
     "text": [
      "[11 12 13]\n",
      "[5 7 9]\n",
      "[ 4 10 18]\n",
      "[1 4 9]\n",
      "[  1  32 729]\n"
     ]
    }
   ],
   "source": [
    "# 배열의 연산\n",
    "arr1 = np.array([1,2,3])\n",
    "arr2 = np.array([4,5,6])\n",
    "\n",
    "# + , * , **\n",
    "print(arr1 + 10)\n",
    "print(arr1 + arr2)\n",
    "print(arr1 * arr2)\n",
    "print(arr1**2)\n",
    "print(arr1 ** arr2)\n"
   ]
  },
  {
   "cell_type": "code",
   "execution_count": 40,
   "id": "ce842330",
   "metadata": {},
   "outputs": [
    {
     "name": "stdout",
     "output_type": "stream",
     "text": [
      "[[11 12 13]\n",
      " [14 15 16]]\n",
      "[[2 4 6]\n",
      " [5 7 9]]\n"
     ]
    }
   ],
   "source": [
    "arr3 = np.array([[1,2,3],[4,5,6]])\n",
    "print(arr3 + 10)\n",
    "print(arr1 + arr3)"
   ]
  },
  {
   "cell_type": "code",
   "execution_count": 45,
   "id": "7d048986",
   "metadata": {},
   "outputs": [
    {
     "name": "stdout",
     "output_type": "stream",
     "text": [
      "[[1 2 3]\n",
      " [4 5 6]]\n"
     ]
    }
   ],
   "source": [
    "# 구조 변환 : 1차원 -> 다차원, 다차원 -> 1차원, 요소를 필터링\n",
    "# 구조 변경 : 1 -> 2, 2 -> 1\n",
    "arr = np.array([1,2,3,4,5,6]) # [[1,2,3], [4,5,6]]\n",
    "\n",
    "reshape = arr.reshape(2,3) # 앞에는 행 뒤에는 열\n",
    "print(reshape)\n"
   ]
  },
  {
   "cell_type": "code",
   "execution_count": 51,
   "id": "9485a5be",
   "metadata": {},
   "outputs": [
    {
     "name": "stdout",
     "output_type": "stream",
     "text": [
      "[1 2 3 4 5 6]\n"
     ]
    }
   ],
   "source": [
    "arr = np.array([[1,2,3], [4,5,6]])\n",
    "\n",
    "flat_arr = arr.flatten()\n",
    "print(flat_arr)"
   ]
  },
  {
   "cell_type": "code",
   "execution_count": 54,
   "id": "10b423fb",
   "metadata": {},
   "outputs": [
    {
     "name": "stdout",
     "output_type": "stream",
     "text": [
      "[4 5 6]\n",
      "[1 2]\n"
     ]
    }
   ],
   "source": [
    "# 필터링\n",
    "arr= np.array([1,2,3,4,5,6])\n",
    "\n",
    "filter_arr = arr[arr > 3] # 요소에서 3보다 큰 애들만으로 필터링\n",
    "filter_arr2 = arr[arr < 3] # 요소에서 3보다 작은 애들만으로 필터링\n",
    "\n",
    "print(filter_arr)\n",
    "print(filter_arr2)"
   ]
  },
  {
   "cell_type": "code",
   "execution_count": 64,
   "id": "25f13c78",
   "metadata": {},
   "outputs": [
    {
     "name": "stdout",
     "output_type": "stream",
     "text": [
      "[0.21672657 0.96239011 0.17271478 0.11252422 0.38661789]\n"
     ]
    }
   ],
   "source": [
    "# 넘파이를 이용한 난수 생성 => 배열\n",
    "ran_val = np.random.rand(5)\n",
    "print(ran_val)"
   ]
  },
  {
   "cell_type": "code",
   "execution_count": 97,
   "id": "12ae57ab",
   "metadata": {},
   "outputs": [
    {
     "name": "stdout",
     "output_type": "stream",
     "text": [
      "[[59 62 93 81 86 84 86 93 82 52]]\n",
      "[8]\n"
     ]
    }
   ],
   "source": [
    "ran_int = np.random.randint(50, 100, size = (1, 10))\n",
    "print(ran_int)\n",
    "\n",
    "ran_int2 = np.random.randint(1, 17, size = (1))\n",
    "print(ran_int2)"
   ]
  },
  {
   "cell_type": "code",
   "execution_count": null,
   "id": "dae6f987",
   "metadata": {},
   "outputs": [],
   "source": [
    "import pandas as pd"
   ]
  },
  {
   "cell_type": "code",
   "execution_count": null,
   "id": "4f0f022a",
   "metadata": {},
   "outputs": [
    {
     "name": "stdout",
     "output_type": "stream",
     "text": [
      "   name  age\n",
      "0   son   20\n",
      "1   kim   30\n",
      "2  choi   35\n"
     ]
    }
   ],
   "source": [
    "# DataFrame 생성: 2 차원 형식의 데이터 구조\n",
    "data = {\n",
    "    'name' : ['son', 'kim', 'choi'],\n",
    "    'age' : [20, 30, 35]\n",
    "}\n",
    "\n",
    "df = pd.DataFrame(data)\n",
    "print(df)\n"
   ]
  },
  {
   "cell_type": "code",
   "execution_count": 116,
   "id": "8e5dc227",
   "metadata": {},
   "outputs": [
    {
     "data": {
      "text/html": [
       "<div>\n",
       "<style scoped>\n",
       "    .dataframe tbody tr th:only-of-type {\n",
       "        vertical-align: middle;\n",
       "    }\n",
       "\n",
       "    .dataframe tbody tr th {\n",
       "        vertical-align: top;\n",
       "    }\n",
       "\n",
       "    .dataframe thead th {\n",
       "        text-align: right;\n",
       "    }\n",
       "</style>\n",
       "<table border=\"1\" class=\"dataframe\">\n",
       "  <thead>\n",
       "    <tr style=\"text-align: right;\">\n",
       "      <th></th>\n",
       "      <th>name</th>\n",
       "      <th>age</th>\n",
       "    </tr>\n",
       "  </thead>\n",
       "  <tbody>\n",
       "    <tr>\n",
       "      <th>0</th>\n",
       "      <td>son</td>\n",
       "      <td>20</td>\n",
       "    </tr>\n",
       "  </tbody>\n",
       "</table>\n",
       "</div>"
      ],
      "text/plain": [
       "  name  age\n",
       "0  son   20"
      ]
     },
     "execution_count": 116,
     "metadata": {},
     "output_type": "execute_result"
    }
   ],
   "source": [
    "# df.head() => default는 5 (5개만 출력)\n",
    "# head 는 상위에 있는 5개 출력\n",
    "df.head(n = 2)\n",
    "\n",
    "df.head(1)"
   ]
  },
  {
   "cell_type": "code",
   "execution_count": 105,
   "id": "9cab1445",
   "metadata": {},
   "outputs": [
    {
     "data": {
      "text/html": [
       "<div>\n",
       "<style scoped>\n",
       "    .dataframe tbody tr th:only-of-type {\n",
       "        vertical-align: middle;\n",
       "    }\n",
       "\n",
       "    .dataframe tbody tr th {\n",
       "        vertical-align: top;\n",
       "    }\n",
       "\n",
       "    .dataframe thead th {\n",
       "        text-align: right;\n",
       "    }\n",
       "</style>\n",
       "<table border=\"1\" class=\"dataframe\">\n",
       "  <thead>\n",
       "    <tr style=\"text-align: right;\">\n",
       "      <th></th>\n",
       "      <th>name</th>\n",
       "      <th>age</th>\n",
       "    </tr>\n",
       "  </thead>\n",
       "  <tbody>\n",
       "    <tr>\n",
       "      <th>1</th>\n",
       "      <td>kim</td>\n",
       "      <td>30</td>\n",
       "    </tr>\n",
       "    <tr>\n",
       "      <th>2</th>\n",
       "      <td>choi</td>\n",
       "      <td>35</td>\n",
       "    </tr>\n",
       "  </tbody>\n",
       "</table>\n",
       "</div>"
      ],
      "text/plain": [
       "   name  age\n",
       "1   kim   30\n",
       "2  choi   35"
      ]
     },
     "execution_count": 105,
     "metadata": {},
     "output_type": "execute_result"
    }
   ],
   "source": [
    "# tail은 하위에 있는 5개 출력\n",
    "df.tail(n = 2)"
   ]
  },
  {
   "cell_type": "code",
   "execution_count": 106,
   "id": "7377019b",
   "metadata": {},
   "outputs": [
    {
     "name": "stdout",
     "output_type": "stream",
     "text": [
      "  name  age\n",
      "0  son   20\n",
      "1  kim   30\n"
     ]
    }
   ],
   "source": [
    "# filter\n",
    "filter_df = df[df['age'] < 35]\n",
    "print(filter_df)"
   ]
  },
  {
   "cell_type": "code",
   "execution_count": 108,
   "id": "8a116f5e",
   "metadata": {},
   "outputs": [
    {
     "name": "stdout",
     "output_type": "stream",
     "text": [
      "85\n",
      "28.333333333333332\n"
     ]
    }
   ],
   "source": [
    "# 기초 통계: 합, 평균 값\n",
    "print(df['age'].sum())\n",
    "print(df['age'].mean())"
   ]
  },
  {
   "cell_type": "code",
   "execution_count": null,
   "id": "d44d355b",
   "metadata": {},
   "outputs": [
    {
     "name": "stdout",
     "output_type": "stream",
     "text": [
      "a    100\n",
      "b    200\n",
      "c    300\n",
      "dtype: int64\n",
      "200\n",
      "300\n",
      "100\n",
      "Index(['a', 'b', 'c'], dtype='object')\n",
      "[100 200 300]\n"
     ]
    }
   ],
   "source": [
    "# Series: 1차원 구조를 표현하는 타입\n",
    "# (리스트, index =[])\n",
    "s1 = pd.Series([100, 200, 300], index =['a', 'b', 'c'])\n",
    "print(s1)\n",
    "\n",
    "print(s1['b'])\n",
    "print(s1['c'])\n",
    "print(s1['a'])\n",
    "print(s1.index)\n",
    "print(s1.values)"
   ]
  },
  {
   "cell_type": "code",
   "execution_count": null,
   "id": "0b84f8a4",
   "metadata": {},
   "outputs": [
    {
     "name": "stdout",
     "output_type": "stream",
     "text": [
      "(3, 2)\n",
      "<class 'pandas.core.frame.DataFrame'>\n",
      "RangeIndex: 3 entries, 0 to 2\n",
      "Data columns (total 2 columns):\n",
      " #   Column  Non-Null Count  Dtype \n",
      "---  ------  --------------  ----- \n",
      " 0   name    3 non-null      object\n",
      " 1   age     3 non-null      int64 \n",
      "dtypes: int64(1), object(1)\n",
      "memory usage: 180.0+ bytes\n",
      "None\n"
     ]
    }
   ],
   "source": [
    "# 데이터 구조 확인\n",
    "print(df.shape)  # (행, 열)\n",
    "\n",
    "print(df.info()) # 데이터 타입 및 결측값 확인"
   ]
  },
  {
   "cell_type": "code",
   "execution_count": 124,
   "id": "3f4033cb",
   "metadata": {},
   "outputs": [
    {
     "data": {
      "text/html": [
       "<div>\n",
       "<style scoped>\n",
       "    .dataframe tbody tr th:only-of-type {\n",
       "        vertical-align: middle;\n",
       "    }\n",
       "\n",
       "    .dataframe tbody tr th {\n",
       "        vertical-align: top;\n",
       "    }\n",
       "\n",
       "    .dataframe thead th {\n",
       "        text-align: right;\n",
       "    }\n",
       "</style>\n",
       "<table border=\"1\" class=\"dataframe\">\n",
       "  <thead>\n",
       "    <tr style=\"text-align: right;\">\n",
       "      <th></th>\n",
       "      <th>age</th>\n",
       "    </tr>\n",
       "  </thead>\n",
       "  <tbody>\n",
       "    <tr>\n",
       "      <th>count</th>\n",
       "      <td>3.000000</td>\n",
       "    </tr>\n",
       "    <tr>\n",
       "      <th>mean</th>\n",
       "      <td>28.333333</td>\n",
       "    </tr>\n",
       "    <tr>\n",
       "      <th>std</th>\n",
       "      <td>7.637626</td>\n",
       "    </tr>\n",
       "    <tr>\n",
       "      <th>min</th>\n",
       "      <td>20.000000</td>\n",
       "    </tr>\n",
       "    <tr>\n",
       "      <th>25%</th>\n",
       "      <td>25.000000</td>\n",
       "    </tr>\n",
       "    <tr>\n",
       "      <th>50%</th>\n",
       "      <td>30.000000</td>\n",
       "    </tr>\n",
       "    <tr>\n",
       "      <th>75%</th>\n",
       "      <td>32.500000</td>\n",
       "    </tr>\n",
       "    <tr>\n",
       "      <th>max</th>\n",
       "      <td>35.000000</td>\n",
       "    </tr>\n",
       "  </tbody>\n",
       "</table>\n",
       "</div>"
      ],
      "text/plain": [
       "             age\n",
       "count   3.000000\n",
       "mean   28.333333\n",
       "std     7.637626\n",
       "min    20.000000\n",
       "25%    25.000000\n",
       "50%    30.000000\n",
       "75%    32.500000\n",
       "max    35.000000"
      ]
     },
     "execution_count": 124,
     "metadata": {},
     "output_type": "execute_result"
    }
   ],
   "source": [
    "df.describe() # 데이터들의 통계값들을 표현해줌"
   ]
  },
  {
   "cell_type": "code",
   "execution_count": 132,
   "id": "0f48a7f8",
   "metadata": {},
   "outputs": [
    {
     "name": "stdout",
     "output_type": "stream",
     "text": [
      "0     son\n",
      "1     kim\n",
      "2    choi\n",
      "Name: name, dtype: object\n",
      "   age  name\n",
      "0   20   son\n",
      "1   30   kim\n",
      "2   35  choi\n",
      "   name  age\n",
      "1   kim   30\n",
      "2  choi   35\n"
     ]
    }
   ],
   "source": [
    "print(df['name']) # 특정 컬럼만 뽑아서 확인할 수 있음\n",
    "\n",
    "print(df[['age', 'name']])\n",
    "\n",
    "print(df[df['age'] > 25])"
   ]
  },
  {
   "cell_type": "code",
   "execution_count": 135,
   "id": "144391d5",
   "metadata": {},
   "outputs": [],
   "source": [
    "data = {\n",
    "    'name' : ['son', 'kim', 'choi'],\n",
    "    'age' : [30, 40, 25],\n",
    "    'score' : [90, 85, 95]\n",
    "}\n",
    "\n",
    "df = pd.DataFrame(data)"
   ]
  },
  {
   "cell_type": "code",
   "execution_count": 140,
   "id": "871ffe4f",
   "metadata": {},
   "outputs": [
    {
     "name": "stdout",
     "output_type": "stream",
     "text": [
      "   name  age  score\n",
      "0   son   30     90\n",
      "2  choi   25     95\n"
     ]
    }
   ],
   "source": [
    "chk_score = df[df['score'] >= 90]\n",
    "print(chk_score)"
   ]
  },
  {
   "cell_type": "code",
   "execution_count": 141,
   "id": "59b00227",
   "metadata": {},
   "outputs": [
    {
     "name": "stdout",
     "output_type": "stream",
     "text": [
      "   name  age  score  passed\n",
      "0   son   30     90    True\n",
      "1   kim   40     85   False\n",
      "2  choi   25     95    True\n"
     ]
    }
   ],
   "source": [
    "# 열(컬럼) 추가\n",
    "df['passed'] = df['score'] >= 90\n",
    "print(df)"
   ]
  },
  {
   "cell_type": "code",
   "execution_count": 206,
   "id": "0e84427f",
   "metadata": {},
   "outputs": [
    {
     "name": "stdout",
     "output_type": "stream",
     "text": [
      "  team  score  name   age passed\n",
      "0    A     80   NaN   NaN    NaN\n",
      "1    A     90   NaN   NaN    NaN\n",
      "2    B     78   NaN   NaN    NaN\n",
      "3    B     88   NaN   NaN    NaN\n",
      "4    C     70   NaN   NaN    NaN\n",
      "5  NaN     88  park  35.0  False\n"
     ]
    }
   ],
   "source": [
    "# 행의 추가: pd.append\n",
    "new_row = {\n",
    "    'name' : ['park'],\n",
    "    'age' : [35],\n",
    "    'score' : [88],\n",
    "    'passed' : [False]\n",
    "}\n",
    "df2 = pd.DataFrame(new_row)\n",
    "# df = df._append(new_row, ignore_index=True)\n",
    "df = pd.concat([df,df2], ignore_index=True)\n",
    "print(df)"
   ]
  },
  {
   "cell_type": "code",
   "execution_count": 165,
   "id": "5e2d42f3",
   "metadata": {},
   "outputs": [],
   "source": [
    "# 데이터 수정\n",
    "df.loc[0, 'score'] = 95"
   ]
  },
  {
   "cell_type": "code",
   "execution_count": 207,
   "id": "753e5254",
   "metadata": {},
   "outputs": [
    {
     "data": {
      "text/html": [
       "<div>\n",
       "<style scoped>\n",
       "    .dataframe tbody tr th:only-of-type {\n",
       "        vertical-align: middle;\n",
       "    }\n",
       "\n",
       "    .dataframe tbody tr th {\n",
       "        vertical-align: top;\n",
       "    }\n",
       "\n",
       "    .dataframe thead th {\n",
       "        text-align: right;\n",
       "    }\n",
       "</style>\n",
       "<table border=\"1\" class=\"dataframe\">\n",
       "  <thead>\n",
       "    <tr style=\"text-align: right;\">\n",
       "      <th></th>\n",
       "      <th>team</th>\n",
       "      <th>score</th>\n",
       "      <th>name</th>\n",
       "      <th>age</th>\n",
       "      <th>passed</th>\n",
       "    </tr>\n",
       "  </thead>\n",
       "  <tbody>\n",
       "    <tr>\n",
       "      <th>0</th>\n",
       "      <td>A</td>\n",
       "      <td>80</td>\n",
       "      <td>NaN</td>\n",
       "      <td>NaN</td>\n",
       "      <td>True</td>\n",
       "    </tr>\n",
       "    <tr>\n",
       "      <th>1</th>\n",
       "      <td>A</td>\n",
       "      <td>90</td>\n",
       "      <td>NaN</td>\n",
       "      <td>NaN</td>\n",
       "      <td>True</td>\n",
       "    </tr>\n",
       "    <tr>\n",
       "      <th>2</th>\n",
       "      <td>B</td>\n",
       "      <td>78</td>\n",
       "      <td>NaN</td>\n",
       "      <td>NaN</td>\n",
       "      <td>False</td>\n",
       "    </tr>\n",
       "    <tr>\n",
       "      <th>3</th>\n",
       "      <td>B</td>\n",
       "      <td>88</td>\n",
       "      <td>NaN</td>\n",
       "      <td>NaN</td>\n",
       "      <td>True</td>\n",
       "    </tr>\n",
       "    <tr>\n",
       "      <th>4</th>\n",
       "      <td>C</td>\n",
       "      <td>70</td>\n",
       "      <td>NaN</td>\n",
       "      <td>NaN</td>\n",
       "      <td>False</td>\n",
       "    </tr>\n",
       "    <tr>\n",
       "      <th>5</th>\n",
       "      <td>NaN</td>\n",
       "      <td>88</td>\n",
       "      <td>park</td>\n",
       "      <td>35.0</td>\n",
       "      <td>True</td>\n",
       "    </tr>\n",
       "  </tbody>\n",
       "</table>\n",
       "</div>"
      ],
      "text/plain": [
       "  team  score  name   age  passed\n",
       "0    A     80   NaN   NaN    True\n",
       "1    A     90   NaN   NaN    True\n",
       "2    B     78   NaN   NaN   False\n",
       "3    B     88   NaN   NaN    True\n",
       "4    C     70   NaN   NaN   False\n",
       "5  NaN     88  park  35.0    True"
      ]
     },
     "execution_count": 207,
     "metadata": {},
     "output_type": "execute_result"
    }
   ],
   "source": [
    "df['passed'] = df['score'] >= 80\n",
    "df"
   ]
  },
  {
   "cell_type": "code",
   "execution_count": 156,
   "id": "e8507d18",
   "metadata": {},
   "outputs": [
    {
     "data": {
      "text/html": [
       "<div>\n",
       "<style scoped>\n",
       "    .dataframe tbody tr th:only-of-type {\n",
       "        vertical-align: middle;\n",
       "    }\n",
       "\n",
       "    .dataframe tbody tr th {\n",
       "        vertical-align: top;\n",
       "    }\n",
       "\n",
       "    .dataframe thead th {\n",
       "        text-align: right;\n",
       "    }\n",
       "</style>\n",
       "<table border=\"1\" class=\"dataframe\">\n",
       "  <thead>\n",
       "    <tr style=\"text-align: right;\">\n",
       "      <th></th>\n",
       "      <th>name</th>\n",
       "      <th>age</th>\n",
       "      <th>score</th>\n",
       "      <th>passed</th>\n",
       "    </tr>\n",
       "  </thead>\n",
       "  <tbody>\n",
       "    <tr>\n",
       "      <th>0</th>\n",
       "      <td>son</td>\n",
       "      <td>30</td>\n",
       "      <td>95</td>\n",
       "      <td>True</td>\n",
       "    </tr>\n",
       "    <tr>\n",
       "      <th>1</th>\n",
       "      <td>kim</td>\n",
       "      <td>40</td>\n",
       "      <td>None</td>\n",
       "      <td>False</td>\n",
       "    </tr>\n",
       "    <tr>\n",
       "      <th>2</th>\n",
       "      <td>choi</td>\n",
       "      <td>25</td>\n",
       "      <td>95</td>\n",
       "      <td>True</td>\n",
       "    </tr>\n",
       "    <tr>\n",
       "      <th>3</th>\n",
       "      <td>[park]</td>\n",
       "      <td>[35]</td>\n",
       "      <td>[88]</td>\n",
       "      <td>[False]</td>\n",
       "    </tr>\n",
       "    <tr>\n",
       "      <th>4</th>\n",
       "      <td>[park]</td>\n",
       "      <td>35</td>\n",
       "      <td>88</td>\n",
       "      <td>False</td>\n",
       "    </tr>\n",
       "    <tr>\n",
       "      <th>5</th>\n",
       "      <td>park</td>\n",
       "      <td>35</td>\n",
       "      <td>88</td>\n",
       "      <td>False</td>\n",
       "    </tr>\n",
       "    <tr>\n",
       "      <th>6</th>\n",
       "      <td>park</td>\n",
       "      <td>35</td>\n",
       "      <td>88</td>\n",
       "      <td>False</td>\n",
       "    </tr>\n",
       "    <tr>\n",
       "      <th>7</th>\n",
       "      <td>park</td>\n",
       "      <td>35</td>\n",
       "      <td>88</td>\n",
       "      <td>False</td>\n",
       "    </tr>\n",
       "  </tbody>\n",
       "</table>\n",
       "</div>"
      ],
      "text/plain": [
       "     name   age score   passed\n",
       "0     son    30    95     True\n",
       "1     kim    40  None    False\n",
       "2    choi    25    95     True\n",
       "3  [park]  [35]  [88]  [False]\n",
       "4  [park]    35    88    False\n",
       "5    park    35    88    False\n",
       "6    park    35    88    False\n",
       "7    park    35    88    False"
      ]
     },
     "execution_count": 156,
     "metadata": {},
     "output_type": "execute_result"
    }
   ],
   "source": [
    "# None\n",
    "df.loc[1, 'score'] = None\n",
    "df"
   ]
  },
  {
   "cell_type": "code",
   "execution_count": 159,
   "id": "575dbea8",
   "metadata": {},
   "outputs": [
    {
     "data": {
      "text/html": [
       "<div>\n",
       "<style scoped>\n",
       "    .dataframe tbody tr th:only-of-type {\n",
       "        vertical-align: middle;\n",
       "    }\n",
       "\n",
       "    .dataframe tbody tr th {\n",
       "        vertical-align: top;\n",
       "    }\n",
       "\n",
       "    .dataframe thead th {\n",
       "        text-align: right;\n",
       "    }\n",
       "</style>\n",
       "<table border=\"1\" class=\"dataframe\">\n",
       "  <thead>\n",
       "    <tr style=\"text-align: right;\">\n",
       "      <th></th>\n",
       "      <th>name</th>\n",
       "      <th>age</th>\n",
       "      <th>score</th>\n",
       "      <th>passed</th>\n",
       "    </tr>\n",
       "  </thead>\n",
       "  <tbody>\n",
       "    <tr>\n",
       "      <th>0</th>\n",
       "      <td>False</td>\n",
       "      <td>False</td>\n",
       "      <td>False</td>\n",
       "      <td>False</td>\n",
       "    </tr>\n",
       "    <tr>\n",
       "      <th>1</th>\n",
       "      <td>False</td>\n",
       "      <td>False</td>\n",
       "      <td>True</td>\n",
       "      <td>False</td>\n",
       "    </tr>\n",
       "    <tr>\n",
       "      <th>2</th>\n",
       "      <td>False</td>\n",
       "      <td>False</td>\n",
       "      <td>False</td>\n",
       "      <td>False</td>\n",
       "    </tr>\n",
       "    <tr>\n",
       "      <th>3</th>\n",
       "      <td>False</td>\n",
       "      <td>False</td>\n",
       "      <td>False</td>\n",
       "      <td>False</td>\n",
       "    </tr>\n",
       "    <tr>\n",
       "      <th>4</th>\n",
       "      <td>False</td>\n",
       "      <td>False</td>\n",
       "      <td>False</td>\n",
       "      <td>False</td>\n",
       "    </tr>\n",
       "    <tr>\n",
       "      <th>5</th>\n",
       "      <td>False</td>\n",
       "      <td>False</td>\n",
       "      <td>False</td>\n",
       "      <td>False</td>\n",
       "    </tr>\n",
       "    <tr>\n",
       "      <th>6</th>\n",
       "      <td>False</td>\n",
       "      <td>False</td>\n",
       "      <td>False</td>\n",
       "      <td>False</td>\n",
       "    </tr>\n",
       "    <tr>\n",
       "      <th>7</th>\n",
       "      <td>False</td>\n",
       "      <td>False</td>\n",
       "      <td>False</td>\n",
       "      <td>False</td>\n",
       "    </tr>\n",
       "  </tbody>\n",
       "</table>\n",
       "</div>"
      ],
      "text/plain": [
       "    name    age  score  passed\n",
       "0  False  False  False   False\n",
       "1  False  False   True   False\n",
       "2  False  False  False   False\n",
       "3  False  False  False   False\n",
       "4  False  False  False   False\n",
       "5  False  False  False   False\n",
       "6  False  False  False   False\n",
       "7  False  False  False   False"
      ]
     },
     "execution_count": 159,
     "metadata": {},
     "output_type": "execute_result"
    }
   ],
   "source": [
    "df.isnull()"
   ]
  },
  {
   "cell_type": "code",
   "execution_count": 161,
   "id": "af636ee6",
   "metadata": {},
   "outputs": [
    {
     "data": {
      "text/html": [
       "<div>\n",
       "<style scoped>\n",
       "    .dataframe tbody tr th:only-of-type {\n",
       "        vertical-align: middle;\n",
       "    }\n",
       "\n",
       "    .dataframe tbody tr th {\n",
       "        vertical-align: top;\n",
       "    }\n",
       "\n",
       "    .dataframe thead th {\n",
       "        text-align: right;\n",
       "    }\n",
       "</style>\n",
       "<table border=\"1\" class=\"dataframe\">\n",
       "  <thead>\n",
       "    <tr style=\"text-align: right;\">\n",
       "      <th></th>\n",
       "      <th>name</th>\n",
       "      <th>age</th>\n",
       "      <th>score</th>\n",
       "      <th>passed</th>\n",
       "    </tr>\n",
       "  </thead>\n",
       "  <tbody>\n",
       "    <tr>\n",
       "      <th>0</th>\n",
       "      <td>son</td>\n",
       "      <td>30</td>\n",
       "      <td>95</td>\n",
       "      <td>True</td>\n",
       "    </tr>\n",
       "    <tr>\n",
       "      <th>1</th>\n",
       "      <td>kim</td>\n",
       "      <td>40</td>\n",
       "      <td>0</td>\n",
       "      <td>False</td>\n",
       "    </tr>\n",
       "    <tr>\n",
       "      <th>2</th>\n",
       "      <td>choi</td>\n",
       "      <td>25</td>\n",
       "      <td>95</td>\n",
       "      <td>True</td>\n",
       "    </tr>\n",
       "    <tr>\n",
       "      <th>3</th>\n",
       "      <td>[park]</td>\n",
       "      <td>[35]</td>\n",
       "      <td>[88]</td>\n",
       "      <td>[False]</td>\n",
       "    </tr>\n",
       "    <tr>\n",
       "      <th>4</th>\n",
       "      <td>[park]</td>\n",
       "      <td>35</td>\n",
       "      <td>88</td>\n",
       "      <td>False</td>\n",
       "    </tr>\n",
       "    <tr>\n",
       "      <th>5</th>\n",
       "      <td>park</td>\n",
       "      <td>35</td>\n",
       "      <td>88</td>\n",
       "      <td>False</td>\n",
       "    </tr>\n",
       "    <tr>\n",
       "      <th>6</th>\n",
       "      <td>park</td>\n",
       "      <td>35</td>\n",
       "      <td>88</td>\n",
       "      <td>False</td>\n",
       "    </tr>\n",
       "    <tr>\n",
       "      <th>7</th>\n",
       "      <td>park</td>\n",
       "      <td>35</td>\n",
       "      <td>88</td>\n",
       "      <td>False</td>\n",
       "    </tr>\n",
       "  </tbody>\n",
       "</table>\n",
       "</div>"
      ],
      "text/plain": [
       "     name   age score   passed\n",
       "0     son    30    95     True\n",
       "1     kim    40     0    False\n",
       "2    choi    25    95     True\n",
       "3  [park]  [35]  [88]  [False]\n",
       "4  [park]    35    88    False\n",
       "5    park    35    88    False\n",
       "6    park    35    88    False\n",
       "7    park    35    88    False"
      ]
     },
     "execution_count": 161,
     "metadata": {},
     "output_type": "execute_result"
    }
   ],
   "source": [
    "df['score'] = df['score'].fillna(0)\n",
    "\n",
    "df"
   ]
  },
  {
   "cell_type": "code",
   "execution_count": 162,
   "id": "f2460c8c",
   "metadata": {},
   "outputs": [
    {
     "data": {
      "text/html": [
       "<div>\n",
       "<style scoped>\n",
       "    .dataframe tbody tr th:only-of-type {\n",
       "        vertical-align: middle;\n",
       "    }\n",
       "\n",
       "    .dataframe tbody tr th {\n",
       "        vertical-align: top;\n",
       "    }\n",
       "\n",
       "    .dataframe thead th {\n",
       "        text-align: right;\n",
       "    }\n",
       "</style>\n",
       "<table border=\"1\" class=\"dataframe\">\n",
       "  <thead>\n",
       "    <tr style=\"text-align: right;\">\n",
       "      <th></th>\n",
       "      <th>name</th>\n",
       "      <th>age</th>\n",
       "      <th>score</th>\n",
       "      <th>passed</th>\n",
       "    </tr>\n",
       "  </thead>\n",
       "  <tbody>\n",
       "    <tr>\n",
       "      <th>0</th>\n",
       "      <td>son</td>\n",
       "      <td>30</td>\n",
       "      <td>95</td>\n",
       "      <td>True</td>\n",
       "    </tr>\n",
       "    <tr>\n",
       "      <th>1</th>\n",
       "      <td>kim</td>\n",
       "      <td>40</td>\n",
       "      <td>0</td>\n",
       "      <td>False</td>\n",
       "    </tr>\n",
       "    <tr>\n",
       "      <th>2</th>\n",
       "      <td>choi</td>\n",
       "      <td>25</td>\n",
       "      <td>95</td>\n",
       "      <td>True</td>\n",
       "    </tr>\n",
       "    <tr>\n",
       "      <th>3</th>\n",
       "      <td>[park]</td>\n",
       "      <td>[35]</td>\n",
       "      <td>[88]</td>\n",
       "      <td>[False]</td>\n",
       "    </tr>\n",
       "    <tr>\n",
       "      <th>4</th>\n",
       "      <td>[park]</td>\n",
       "      <td>35</td>\n",
       "      <td>88</td>\n",
       "      <td>False</td>\n",
       "    </tr>\n",
       "    <tr>\n",
       "      <th>5</th>\n",
       "      <td>park</td>\n",
       "      <td>35</td>\n",
       "      <td>88</td>\n",
       "      <td>False</td>\n",
       "    </tr>\n",
       "    <tr>\n",
       "      <th>6</th>\n",
       "      <td>park</td>\n",
       "      <td>35</td>\n",
       "      <td>88</td>\n",
       "      <td>False</td>\n",
       "    </tr>\n",
       "    <tr>\n",
       "      <th>7</th>\n",
       "      <td>park</td>\n",
       "      <td>35</td>\n",
       "      <td>88</td>\n",
       "      <td>False</td>\n",
       "    </tr>\n",
       "  </tbody>\n",
       "</table>\n",
       "</div>"
      ],
      "text/plain": [
       "     name   age score   passed\n",
       "0     son    30    95     True\n",
       "1     kim    40     0    False\n",
       "2    choi    25    95     True\n",
       "3  [park]  [35]  [88]  [False]\n",
       "4  [park]    35    88    False\n",
       "5    park    35    88    False\n",
       "6    park    35    88    False\n",
       "7    park    35    88    False"
      ]
     },
     "execution_count": 162,
     "metadata": {},
     "output_type": "execute_result"
    }
   ],
   "source": [
    "df = df.dropna()\n",
    "df"
   ]
  },
  {
   "cell_type": "code",
   "execution_count": 209,
   "id": "94e524f0",
   "metadata": {},
   "outputs": [
    {
     "name": "stdout",
     "output_type": "stream",
     "text": [
      "  team  score  name   age  passed\n",
      "4    C     70   NaN   NaN   False\n",
      "2    B     78   NaN   NaN   False\n",
      "0    A     80   NaN   NaN    True\n",
      "3    B     88   NaN   NaN    True\n",
      "5  NaN     88  park  35.0    True\n",
      "1    A     90   NaN   NaN    True\n"
     ]
    }
   ],
   "source": [
    "sorted_df  = df.sort_values(by='score', ascending=True)\n",
    "print(sorted_df) # false는 내림차순"
   ]
  },
  {
   "cell_type": "code",
   "execution_count": 170,
   "id": "b0d15eca",
   "metadata": {},
   "outputs": [
    {
     "name": "stdout",
     "output_type": "stream",
     "text": [
      "{'team': ['A', 'A', 'B', 'B', 'C'], 'score': [80, 90, 78, 88, 70]}\n"
     ]
    }
   ],
   "source": [
    "# 그룹핑\n",
    "data = {\n",
    "    'team' : ['A', 'A', 'B', 'B', 'C'],\n",
    "    'score' : [80, 90, 78, 88, 70]\n",
    "}\n",
    "\n",
    "df = pd.DataFrame(data)\n",
    "print(data)"
   ]
  },
  {
   "cell_type": "code",
   "execution_count": 210,
   "id": "2cebf87e",
   "metadata": {},
   "outputs": [
    {
     "name": "stdout",
     "output_type": "stream",
     "text": [
      "<bound method GroupBy.mean of <pandas.core.groupby.generic.SeriesGroupBy object at 0x000001493622FB90>>\n"
     ]
    }
   ],
   "source": [
    "group_data = df.groupby('team')['score'].mean\n",
    "print(group_data)"
   ]
  },
  {
   "cell_type": "code",
   "execution_count": 180,
   "id": "cc467472",
   "metadata": {},
   "outputs": [
    {
     "data": {
      "text/html": [
       "<div>\n",
       "<style scoped>\n",
       "    .dataframe tbody tr th:only-of-type {\n",
       "        vertical-align: middle;\n",
       "    }\n",
       "\n",
       "    .dataframe tbody tr th {\n",
       "        vertical-align: top;\n",
       "    }\n",
       "\n",
       "    .dataframe thead th {\n",
       "        text-align: right;\n",
       "    }\n",
       "</style>\n",
       "<table border=\"1\" class=\"dataframe\">\n",
       "  <thead>\n",
       "    <tr style=\"text-align: right;\">\n",
       "      <th></th>\n",
       "      <th>team</th>\n",
       "      <th>score</th>\n",
       "    </tr>\n",
       "  </thead>\n",
       "  <tbody>\n",
       "    <tr>\n",
       "      <th>0</th>\n",
       "      <td>A</td>\n",
       "      <td>80</td>\n",
       "    </tr>\n",
       "    <tr>\n",
       "      <th>1</th>\n",
       "      <td>A</td>\n",
       "      <td>90</td>\n",
       "    </tr>\n",
       "    <tr>\n",
       "      <th>2</th>\n",
       "      <td>B</td>\n",
       "      <td>78</td>\n",
       "    </tr>\n",
       "    <tr>\n",
       "      <th>3</th>\n",
       "      <td>B</td>\n",
       "      <td>88</td>\n",
       "    </tr>\n",
       "    <tr>\n",
       "      <th>4</th>\n",
       "      <td>C</td>\n",
       "      <td>70</td>\n",
       "    </tr>\n",
       "  </tbody>\n",
       "</table>\n",
       "</div>"
      ],
      "text/plain": [
       "  team  score\n",
       "0    A     80\n",
       "1    A     90\n",
       "2    B     78\n",
       "3    B     88\n",
       "4    C     70"
      ]
     },
     "execution_count": 180,
     "metadata": {},
     "output_type": "execute_result"
    }
   ],
   "source": [
    "df.to_csv('output.csv', index=False)\n",
    "data_csv = pd.read_csv('output.csv')\n",
    "data_csv\n"
   ]
  },
  {
   "cell_type": "markdown",
   "id": "68a68ab4",
   "metadata": {},
   "source": [
    "### Matplotlib"
   ]
  },
  {
   "cell_type": "code",
   "execution_count": 183,
   "id": "43b7c912",
   "metadata": {},
   "outputs": [],
   "source": [
    "import matplotlib.pyplot as plt"
   ]
  },
  {
   "cell_type": "code",
   "execution_count": 184,
   "id": "4442a735",
   "metadata": {},
   "outputs": [],
   "source": [
    "# 데이터\n",
    "x = [1, 2, 3, 4, 5]\n",
    "y = [2, 3, 5, 7, 13]"
   ]
  },
  {
   "cell_type": "code",
   "execution_count": 212,
   "id": "6216ffb1",
   "metadata": {},
   "outputs": [
    {
     "data": {
      "text/plain": [
       "<function matplotlib.pyplot.show(close=None, block=None)>"
      ]
     },
     "execution_count": 212,
     "metadata": {},
     "output_type": "execute_result"
    },
    {
     "data": {
      "image/png": "[encoded data removed]",
      "text/plain": [
       "<Figure size 640x480 with 1 Axes>"
      ]
     },
     "metadata": {},
     "output_type": "display_data"
    }
   ],
   "source": [
    "plt.plot(x, y,\n",
    "         marker = 'o',\n",
    "         linestyle = '-',\n",
    "         color = 'b',\n",
    "         label = 'Numbers'\n",
    "         )\n",
    "\n",
    "plt.title('line graph')\n",
    "plt.xlabel('X')\n",
    "plt.ylabel('Y')\n",
    "plt.legend()\n",
    "plt.grid(True)\n",
    "\n",
    "plt.show"
   ]
  },
  {
   "cell_type": "code",
   "execution_count": 214,
   "id": "bae9740d",
   "metadata": {},
   "outputs": [
    {
     "data": {
      "image/png": "[encoded data removed]",
      "text/plain": [
       "<Figure size 640x480 with 1 Axes>"
      ]
     },
     "metadata": {},
     "output_type": "display_data"
    }
   ],
   "source": [
    "# 데이터\n",
    "ctgy = ['a', 'b', 'c', 'd', 'e'] # X축\n",
    "val = [5, 7, 3, 9, 6] # Y축\n",
    "\n",
    "# 그래프 생성\n",
    "# plt.bar(ctgy, val,\n",
    "#         color = 'skyblue',\n",
    "#         edgecolor = 'black'\n",
    "#         )\n",
    "\n",
    "plt.barh(ctgy, val,\n",
    "         color = 'skyblue',\n",
    "         edgecolor = 'black'\n",
    "         )\n",
    "\n",
    "#설정\n",
    "plt.title('Bar Chart')\n",
    "plt.xlabel('Ctgy')\n",
    "plt.ylabel('val')\n",
    "\n",
    "plt.show()"
   ]
  },
  {
   "cell_type": "code",
   "execution_count": 194,
   "id": "aa4d14ef",
   "metadata": {},
   "outputs": [
    {
     "data": {
      "image/png": "[encoded data removed]",
      "text/plain": [
       "<Figure size 640x480 with 1 Axes>"
      ]
     },
     "metadata": {},
     "output_type": "display_data"
    }
   ],
   "source": [
    "# data 준비\n",
    "data = np.random.randn(1000)\n",
    "\n",
    "# 그래프 생성\n",
    "plt.hist(data,\n",
    "         bins = 20,\n",
    "         color = 'orange',\n",
    "         edgecolor = 'black'\n",
    "         )\n",
    "\n",
    "# 설정\n",
    "plt.title('Histogram')\n",
    "plt.xlabel('value range')\n",
    "plt.ylabel('Count')\n",
    "\n",
    "#출력\n",
    "plt.show()\n",
    "\n"
   ]
  },
  {
   "cell_type": "code",
   "execution_count": null,
   "id": "e48ea0c2",
   "metadata": {},
   "outputs": [],
   "source": [
    "import seaborn as sns"
   ]
  },
  {
   "cell_type": "code",
   "execution_count": null,
   "id": "ce75ef1e",
   "metadata": {},
   "outputs": [
    {
     "data": {
      "text/plain": [
       "<function matplotlib.pyplot.show(close=None, block=None)>"
      ]
     },
     "execution_count": 199,
     "metadata": {},
     "output_type": "execute_result"
    },
    {
     "data": {
      "image/png": "[encoded data removed]",
      "text/plain": [
       "<Figure size 640x480 with 2 Axes>"
      ]
     },
     "metadata": {},
     "output_type": "display_data"
    }
   ],
   "source": [
    "# 히트맵\n",
    "# 데이터 준비\n",
    "data = np.random.rand(10, 10)\n",
    "\n",
    "mask = np.triu(np.ones_like(data, dtype=bool))\n",
    "\n",
    "sns.heatmap(data, annot = True, mask = mask)\n",
    "plt.title('heatmap')\n",
    "plt.show"
   ]
  },
  {
   "cell_type": "code",
   "execution_count": 202,
   "id": "9e668949",
   "metadata": {},
   "outputs": [
    {
     "name": "stderr",
     "output_type": "stream",
     "text": [
      "C:\\Users\\ez\\AppData\\Local\\Temp\\ipykernel_11456\\3216144493.py:4: FutureWarning: \n",
      "\n",
      "Passing `palette` without assigning `hue` is deprecated and will be removed in v0.14.0. Assign the `x` variable to `hue` and set `legend=False` for the same effect.\n",
      "\n",
      "  sns.boxplot(x = 'day', y = 'total_bill', data = tips, palette='Set2')\n"
     ]
    },
    {
     "data": {
      "image/png": "[encoded data removed]",
      "text/plain": [
       "<Figure size 640x480 with 1 Axes>"
      ]
     },
     "metadata": {},
     "output_type": "display_data"
    }
   ],
   "source": [
    "# 박스 플롯\n",
    "tips = sns.load_dataset('tips')\n",
    "\n",
    "sns.boxplot(x = 'day', y = 'total_bill', data = tips, palette='Set2')\n",
    "plt.title('boxplot example: total bill by day')\n",
    "plt.show()"
   ]
  },
  {
   "cell_type": "code",
   "execution_count": 204,
   "id": "cdee283c",
   "metadata": {},
   "outputs": [
    {
     "name": "stderr",
     "output_type": "stream",
     "text": [
      "C:\\Users\\ez\\AppData\\Local\\Temp\\ipykernel_11456\\365766116.py:2: FutureWarning: \n",
      "\n",
      "Passing `palette` without assigning `hue` is deprecated and will be removed in v0.14.0. Assign the `x` variable to `hue` and set `legend=False` for the same effect.\n",
      "\n",
      "  sns.violinplot(x='day', y='total_bill', data = tips, palette = 'muted', split=True)\n"
     ]
    },
    {
     "data": {
      "image/png": "[encoded data removed]",
      "text/plain": [
       "<Figure size 640x480 with 1 Axes>"
      ]
     },
     "metadata": {},
     "output_type": "display_data"
    }
   ],
   "source": [
    "# 바이올린 플롯\n",
    "sns.violinplot(x='day', y='total_bill', data = tips, palette = 'muted', split=True)\n",
    "plt.title('Chart')\n",
    "plt.show()"
   ]
  }
 ],
 "metadata": {
  "kernelspec": {
   "display_name": ".venv",
   "language": "python",
   "name": "python3"
  },
  "language_info": {
   "codemirror_mode": {
    "name": "ipython",
    "version": 3
   },
   "file_extension": ".py",
   "mimetype": "text/x-python",
   "name": "python",
   "nbconvert_exporter": "python",
   "pygments_lexer": "ipython3",
   "version": "3.13.4"
  }
 },
 "nbformat": 4,
 "nbformat_minor": 5
}
