{
 "cells": [
  {
   "cell_type": "markdown",
   "id": "f2391c98",
   "metadata": {},
   "source": [
    "### 데이터 전처리 EX-2"
   ]
  },
  {
   "cell_type": "code",
   "execution_count": 2,
   "id": "f1892d9b",
   "metadata": {},
   "outputs": [
    {
     "name": "stdout",
     "output_type": "stream",
     "text": [
      "sales.csv 파일이 생성되었습니다.\n"
     ]
    }
   ],
   "source": [
    "# 샘플 데이터 만들기\n",
    "import pandas as pd\n",
    "\n",
    "# 1. 가짜 데이터 생성\n",
    "data = {\n",
    "    'ProductID': [101, 102, 103, 104, 101, 102, 103, 105, 106, 101],\n",
    "    'ProductName': ['A', 'B', 'C', 'D', 'A', 'B', 'C', 'E', 'F', 'A'],\n",
    "    'Price': [100, 200, 300, 400, 100, 200, 300, 500, 600, 100],\n",
    "    'Quantity': [1, 2, 3, 4, 1, 2, 3, 5, 6, 1]\n",
    "}\n",
    "\n",
    "# 2. DataFrame 생성\n",
    "df = pd.DataFrame(data)\n",
    "\n",
    "# 3. 중복된 데이터를 일부 추가 (중복된 행 4개 추가)\n",
    "df.loc[len(df.index)] = [101, 'A', 100, 1]\n",
    "df.loc[len(df.index)] = [102, 'B', 200, 2]\n",
    "df.loc[len(df.index)] = [103, 'C', 300, 3]\n",
    "df.loc[len(df.index)] = [104, 'D', 400, 4]\n",
    "\n",
    "# 4. CSV 파일로 내보내기\n",
    "df.to_csv('sales.csv', index=False)\n",
    "\n",
    "print(\"sales.csv 파일이 생성되었습니다.\")\n"
   ]
  },
  {
   "cell_type": "code",
   "execution_count": 3,
   "id": "c64ad98e",
   "metadata": {},
   "outputs": [],
   "source": [
    "# csv 불러오기\n",
    "df = pd.read_csv('sales.csv')"
   ]
  },
  {
   "cell_type": "code",
   "execution_count": 5,
   "id": "4583cd5e",
   "metadata": {},
   "outputs": [
    {
     "name": "stdout",
     "output_type": "stream",
     "text": [
      "중복된 행 개수 : 8\n"
     ]
    }
   ],
   "source": [
    "# 2. 중복된 행 개수 출력\n",
    "duplicate_count = df.duplicated().sum()\n",
    "print('중복된 행 개수 :', duplicate_count)"
   ]
  },
  {
   "cell_type": "code",
   "execution_count": 9,
   "id": "6eb1e92a",
   "metadata": {},
   "outputs": [
    {
     "name": "stdout",
     "output_type": "stream",
     "text": [
      "중복 제거 후 데이터 개수 : 6\n"
     ]
    }
   ],
   "source": [
    "# 3. 중복된 행 제거한 후, 남은 데이터의 개수 확인\n",
    "df_dropped_duplicates = df.drop_duplicates()\n",
    "print('중복 제거 후 데이터 개수 :',len(df_dropped_duplicates))"
   ]
  },
  {
   "cell_type": "code",
   "execution_count": 10,
   "id": "8b1a0a6c",
   "metadata": {},
   "outputs": [
    {
     "name": "stdout",
     "output_type": "stream",
     "text": [
      "    ProductID ProductName  Price  Quantity\n",
      "0         101           A    100         1\n",
      "1         102           B    200         2\n",
      "2         103           C    300         3\n",
      "3         104           D    400         4\n",
      "4         101           A    100         1\n",
      "5         102           B    200         2\n",
      "6         103           C    300         3\n",
      "7         105           E    500         5\n",
      "8         106           F    600         6\n",
      "9         101           A    100         1\n",
      "10        101           A    100         1\n",
      "11        102           B    200         2\n",
      "12        103           C    300         3\n",
      "13        104           D    400         4\n"
     ]
    }
   ],
   "source": [
    "print(df)"
   ]
  }
 ],
 "metadata": {
  "kernelspec": {
   "display_name": ".venv",
   "language": "python",
   "name": "python3"
  },
  "language_info": {
   "codemirror_mode": {
    "name": "ipython",
    "version": 3
   },
   "file_extension": ".py",
   "mimetype": "text/x-python",
   "name": "python",
   "nbconvert_exporter": "python",
   "pygments_lexer": "ipython3",
   "version": "3.13.4"
  }
 },
 "nbformat": 4,
 "nbformat_minor": 5
}
