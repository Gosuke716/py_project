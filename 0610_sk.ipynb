{
 "cells": [
  {
   "cell_type": "markdown",
   "id": "9cfde62e",
   "metadata": {},
   "source": [
    "### 2025년 6월10일 SK 쉴더스 루키즈 파이썬"
   ]
  },
  {
   "cell_type": "code",
   "execution_count": 4,
   "id": "6085d5ad",
   "metadata": {},
   "outputs": [],
   "source": [
    "list_a = [1,2,3,4]"
   ]
  },
  {
   "cell_type": "code",
   "execution_count": null,
   "id": "44b3f7e9",
   "metadata": {},
   "outputs": [],
   "source": [
    "# 요소의 참조: 변수처럼 사용\n",
    "list_a[2] = 4"
   ]
  },
  {
   "cell_type": "code",
   "execution_count": 7,
   "id": "12d617fb",
   "metadata": {},
   "outputs": [
    {
     "name": "stdout",
     "output_type": "stream",
     "text": [
      "3\n"
     ]
    }
   ],
   "source": [
    "sum = list_a[0] + list_a[1] # 1 + 2\n",
    "print(sum)"
   ]
  },
  {
   "cell_type": "code",
   "execution_count": null,
   "id": "4dafce32",
   "metadata": {},
   "outputs": [
    {
     "data": {
      "text/plain": [
       "4"
      ]
     },
     "execution_count": 8,
     "metadata": {},
     "output_type": "execute_result"
    }
   ],
   "source": [
    "# 리스트의 마지막 인덱스를 뽑으려면 -1 입력\n",
    "# 리스트의 마지막에서 두번째 인덱스 뽑으려면 -2 입력\n",
    "list_a[-1]"
   ]
  },
  {
   "cell_type": "code",
   "execution_count": null,
   "id": "3eaa11cf",
   "metadata": {},
   "outputs": [
    {
     "data": {
      "text/plain": [
       "3"
      ]
     },
     "execution_count": 10,
     "metadata": {},
     "output_type": "execute_result"
    }
   ],
   "source": [
    "list_a[len(list_a)-1] # N - 1"
   ]
  },
  {
   "cell_type": "code",
   "execution_count": 15,
   "id": "58896904",
   "metadata": {},
   "outputs": [
    {
     "name": "stdout",
     "output_type": "stream",
     "text": [
      "4\n",
      "1 <class 'int'>\n",
      "2 <class 'int'>\n",
      "3 <class 'int'>\n",
      "['a', 'b', 'c'] <class 'list'>\n",
      "a b c\n"
     ]
    }
   ],
   "source": [
    "list_b = [1,2,3,['a','b','c']]\n",
    "print(len(list_b))\n",
    "print(list_b[0], type(list_b[0]))\n",
    "print(list_b[1], type(list_b[1]))\n",
    "print(list_b[2], type(list_b[2]))\n",
    "print(list_b[3], type(list_b[3]))\n",
    "print(list_b[3][0], list_b[3][1], list_b[3][2])"
   ]
  },
  {
   "cell_type": "code",
   "execution_count": 23,
   "id": "5c2714b3",
   "metadata": {},
   "outputs": [
    {
     "name": "stdout",
     "output_type": "stream",
     "text": [
      "[1, 2, 3, 4]\n",
      "[2, 3, 4]\n",
      "[1, 2, 3, 4]\n",
      "[1, 2, 3, 4, 5]\n"
     ]
    }
   ],
   "source": [
    "# 슬라이싱\n",
    "list_c = [1, 2, 3, 4, 5]\n",
    "#         0  1  2  3  4\n",
    "\n",
    "# 인덱스 4를 만나면 탈출\n",
    "print(list_c[0:4])\n",
    "\n",
    "# 인덱스 1부터 시작, 4를 만나면 탈출\n",
    "print(list_c[1:4])\n",
    "\n",
    "# 슬라이싱에서 시작부분을 생략하면 처음부터 시작\n",
    "print(list_c[:4]) #list_c[0:4]\n",
    "\n",
    "# 슬라이싱에서 끝부분을 생략하면 끝까지 \n",
    "print(list_c[0:]) #list_c[1:5]"
   ]
  },
  {
   "cell_type": "code",
   "execution_count": 32,
   "id": "6eac5d10",
   "metadata": {},
   "outputs": [
    {
     "name": "stdout",
     "output_type": "stream",
     "text": [
      "[1, 2, 3, 4, 5, 100, 200, 300]\n",
      "[100, 200, 300, 1, 2, 3, 4, 5]\n",
      "[100, 200, 300, 100, 200, 300, 100, 200, 300]\n"
     ]
    }
   ],
   "source": [
    "# list의 연산: + , * 가능\n",
    "list_d = [100, 200, 300]\n",
    "\n",
    "# + : 요소들을 더하는게 아닌 리스트 뒤에 붙는다.\n",
    "print(list_c + list_d) # 새로운 리스트 생성\n",
    "print(list_d + list_c) # 새로운 리스트 생성\n",
    "\n",
    "# * : 리스트의 요소를 n 번 반복해서 저장 -> 새로운 리스트\n",
    "print(list_d * 3)\n"
   ]
  },
  {
   "cell_type": "code",
   "execution_count": 44,
   "id": "c1ad9b55",
   "metadata": {},
   "outputs": [
    {
     "data": {
      "text/plain": [
       "[1, 2, 3, 500]"
      ]
     },
     "execution_count": 44,
     "metadata": {},
     "output_type": "execute_result"
    }
   ],
   "source": [
    "# 리스트에 요소(데이터 추가) : 순서 => 마지막 다음에 데이터 추가\n",
    "# append() : 메서드 => 리스트의 마지막에 데이터 추가\n",
    "\n",
    "list_a = [1, 2, 3]\n",
    "list_a.append(500)\n",
    "\n",
    "list_a"
   ]
  },
  {
   "cell_type": "code",
   "execution_count": null,
   "id": "97d31f44",
   "metadata": {},
   "outputs": [],
   "source": [
    "# pop : 마지막 요소 추출\n",
    "list_a.pop()\n",
    "list_a\n",
    "\n",
    "# 0번째 인덱스 데이터 반환 후, 제거\n",
    "list_a.pop(0)\n",
    "list_a"
   ]
  },
  {
   "cell_type": "code",
   "execution_count": null,
   "id": "7515ba4e",
   "metadata": {},
   "outputs": [
    {
     "name": "stdout",
     "output_type": "stream",
     "text": [
      "[1, 2, 4, 9, 10]\n",
      "[10, 9, 4, 2, 1]\n"
     ]
    }
   ],
   "source": [
    "list_a = [1, 4, 9, 2, 10]\n",
    "\n",
    "# sort: 정렬하는 함수. 기본 베이스는 오름차순\n",
    "list_a.sort()\n",
    "print(list_a)\n",
    "\n",
    "# reverse: 내림차순 함수\n",
    "list_a.reverse()\n",
    "print(list_a)"
   ]
  },
  {
   "cell_type": "code",
   "execution_count": null,
   "id": "728728d4",
   "metadata": {},
   "outputs": [
    {
     "name": "stdout",
     "output_type": "stream",
     "text": [
      "[10, 100, 9, 4, 2, 1]\n"
     ]
    }
   ],
   "source": [
    "# 인덱스를 찾아주는 함수\n",
    "list_a.index(10)\n",
    "\n",
    "# 리스트에 데이터 삽입하는 함수. 앞은 인덱스번호, 뒤는 넣을 데이터\n",
    "list_a.insert(1, 100)\n",
    "print(list_a)"
   ]
  },
  {
   "cell_type": "code",
   "execution_count": 58,
   "id": "b60d046e",
   "metadata": {},
   "outputs": [
    {
     "name": "stdout",
     "output_type": "stream",
     "text": [
      "[1, 2, 3, 4, 5, 100, 200, 300]\n"
     ]
    },
    {
     "data": {
      "text/plain": [
       "[1, 2, 3, 4, 5, 100, 200, 300]"
      ]
     },
     "execution_count": 58,
     "metadata": {},
     "output_type": "execute_result"
    }
   ],
   "source": [
    "list_a = [1, 2, 3, 4, 5]\n",
    "list_b = [100, 200, 300]\n",
    "list_c = list_a + list_b\n",
    "print(list_c)\n",
    "\n",
    "# extend: 리스트에 리스트를 더하는 함수\n",
    "list_a.extend(list_b)\n",
    "list_a"
   ]
  },
  {
   "cell_type": "code",
   "execution_count": 66,
   "id": "14ab3819",
   "metadata": {},
   "outputs": [
    {
     "name": "stdout",
     "output_type": "stream",
     "text": [
      "<class 'tuple'>\n",
      "(1, 2, 3, 4) <class 'tuple'>\n",
      "(1, 2, 3, 4) <class 'tuple'>\n",
      "1\n",
      "(2, 3)\n"
     ]
    }
   ],
   "source": [
    "# tuple : list 와 동일,\n",
    "# 단 요소 변경으 불가능 -> 데이터 안전하게 유지\n",
    "\n",
    "t_1 = ()\n",
    "print(type(t_1))\n",
    "\n",
    "t_2 = (1,2,3,4)\n",
    "t_3 = 1,2,3,4\n",
    "print(t_2, type(t_2))\n",
    "print(t_3, type(t_3))\n",
    "print(t_2[0])\n",
    "print(t_3[1:3])\n"
   ]
  },
  {
   "cell_type": "code",
   "execution_count": 70,
   "id": "b6ed61ed",
   "metadata": {},
   "outputs": [
    {
     "name": "stdout",
     "output_type": "stream",
     "text": [
      "1000 <class 'int'>\n"
     ]
    }
   ],
   "source": [
    "a, b, c = 1000, 2000, 3000\n",
    "print(a, type(a))"
   ]
  },
  {
   "cell_type": "code",
   "execution_count": 73,
   "id": "0f003813",
   "metadata": {},
   "outputs": [
    {
     "name": "stdout",
     "output_type": "stream",
     "text": [
      "<class 'dict'>\n",
      "{}\n"
     ]
    }
   ],
   "source": [
    "# 딕셔너리 => key : value -> key 값으로 데이터를 참조\n",
    "# { key1 : value1 , key2 : value2, .... }\n",
    "dict_1 = {}\n",
    "print(type(dict_1))\n",
    "print(dict_1)"
   ]
  },
  {
   "cell_type": "code",
   "execution_count": null,
   "id": "dbfef401",
   "metadata": {},
   "outputs": [
    {
     "name": "stdout",
     "output_type": "stream",
     "text": [
      "{1: 'a'} <class 'dict'>\n",
      "{1: 'a', 2: 'b'}\n",
      "{1: 'a', 2: 'b', 3: (1, 2, 3)}\n",
      "{1: 'a', 2: 'b'}\n"
     ]
    }
   ],
   "source": [
    "dict_2 = {1: 'a'}\n",
    "print(dict_2, type(dict_2))\n",
    "\n",
    "# 요소 값 추가 => key 정의, 값 정의\n",
    "dict_2[2] = 'b'\n",
    "print(dict_2)\n",
    "\n",
    "dict_2[3] = (1,2,3)\n",
    "print(dict_2)\n",
    "\n",
    "# 요소 삭제\n",
    "del dict_2[3]\n",
    "print(dict_2)"
   ]
  },
  {
   "cell_type": "code",
   "execution_count": 81,
   "id": "321cbd21",
   "metadata": {},
   "outputs": [
    {
     "name": "stdout",
     "output_type": "stream",
     "text": [
      "{'sno': 1111, 's_name': 'KING', 'grade': 4, 'major': 'COM'} <class 'dict'>\n"
     ]
    }
   ],
   "source": [
    "# 학생: 학번 , 이름, 학년, 학과 => 데이터의 구조화\n",
    "student_1 = {\n",
    "    'sno' : 1111,\n",
    "    's_name' : 'KING',\n",
    "    'grade' : 4,\n",
    "    'major' : 'COM'\n",
    "}\n",
    "\n",
    "print(student_1, type(student_1))"
   ]
  },
  {
   "cell_type": "code",
   "execution_count": null,
   "id": "6f8c79f9",
   "metadata": {},
   "outputs": [
    {
     "name": "stdout",
     "output_type": "stream",
     "text": [
      "dict_keys(['team', 'name', 'number'])\n",
      "dict_values(['Tottenham', 'SON', 7])\n",
      "False\n",
      "[('team', 'Tottenham'), ('name', 'SON'), ('number', 7)]\n",
      "Tottenham\n",
      "None\n"
     ]
    }
   ],
   "source": [
    "player = {\n",
    "    'team' : 'Tottenham',\n",
    "    'name' : 'SON',\n",
    "    'number': 7\n",
    "}\n",
    "\n",
    "# key 목록 출력\n",
    "print(player.keys())\n",
    "# value 목록 출력력\n",
    "print(player.values())\n",
    "\n",
    "print('age' in player)\n",
    "list_temp = list(player.items())\n",
    "print(list_temp)\n",
    "print(list_temp[0][1])\n",
    "player['name']\n",
    "player.get('name') # == player['name']\n",
    "player.get('pos') # 해당하는 값이 없으면 default 반환\n",
    "\n",
    "pos = player.get('pos')\n",
    "print(pos)\n"
   ]
  },
  {
   "cell_type": "code",
   "execution_count": 101,
   "id": "99528428",
   "metadata": {},
   "outputs": [
    {
     "name": "stdout",
     "output_type": "stream",
     "text": [
      "{1, 2, 3, 4, 5}\n"
     ]
    }
   ],
   "source": [
    "# set: 집합 = > 중복 X, 순서 X, 집합 연산 사용\n",
    "s_1 = set([1,2,3,4,1,2,5])\n",
    "print(s_1)"
   ]
  },
  {
   "cell_type": "code",
   "execution_count": 102,
   "id": "7541dcda",
   "metadata": {},
   "outputs": [
    {
     "name": "stdout",
     "output_type": "stream",
     "text": [
      "킥~~~\n"
     ]
    }
   ],
   "source": [
    "# if: 분기 => ~라면, 아니라면\n",
    "# 성인이라면, 성인이 아니라면\n",
    "age = 15\n",
    "\n",
    "# 성인이라면 -> 환영 메세지, 미성년 -> 킥~\n",
    "if age >= 18 :\n",
    "    print('환영합니다~~~')\n",
    "    print('게임을 시작하세요!')\n",
    "else :\n",
    "    print('킥~~~')"
   ]
  },
  {
   "cell_type": "code",
   "execution_count": 105,
   "id": "9eb7fe70",
   "metadata": {},
   "outputs": [
    {
     "name": "stdout",
     "output_type": "stream",
     "text": [
      "홀수입니다\n"
     ]
    }
   ],
   "source": [
    "# 홀수 짝수 판단\n",
    "num = 5\n",
    "if num % 2 == 0 :\n",
    "    print('짝수입니다')\n",
    "else:\n",
    "    print('홀수입니다')"
   ]
  },
  {
   "cell_type": "code",
   "execution_count": 112,
   "id": "0c5aed10",
   "metadata": {},
   "outputs": [
    {
     "name": "stdout",
     "output_type": "stream",
     "text": [
      "양수입니다\n"
     ]
    }
   ],
   "source": [
    "# 양수 음수 0 판단\n",
    "num = 235\n",
    "if num > 0 :\n",
    "    print('양수입니다')\n",
    "elif num == 0 :\n",
    "    print('0 입니다')\n",
    "else :\n",
    "    print('음수입니다')"
   ]
  },
  {
   "cell_type": "code",
   "execution_count": null,
   "id": "96b6e44e",
   "metadata": {},
   "outputs": [
    {
     "name": "stdout",
     "output_type": "stream",
     "text": [
      "461615 <class 'str'> -459590\n"
     ]
    }
   ],
   "source": [
    "# 표준 출력 함수 => print()\n",
    "# 표준 입력 함수 => input()\n",
    "\n",
    "user_age = input('나이를를 입력하세요!')\n",
    "\n",
    "#입력은 str이므로 int()함수로 속성 바꿔주기\n",
    "print(user_age, type(user_age), 2025-int(user_age))"
   ]
  },
  {
   "cell_type": "markdown",
   "id": "61265f44",
   "metadata": {},
   "source": [
    "### 연습문제 \n",
    "독감예방이 접종 가능한지 여부를 확인하는 프로그램\n",
    "15세 미만 혹은 65세 이상의 경우 무료 에방 접종 가능 메세지 출력"
   ]
  },
  {
   "cell_type": "code",
   "execution_count": 140,
   "id": "378f1009",
   "metadata": {},
   "outputs": [
    {
     "name": "stdout",
     "output_type": "stream",
     "text": [
      "무료 대상이 아닙니다\n"
     ]
    }
   ],
   "source": [
    "age = input('나이를 입력하세요!')\n",
    "if int(age) < 15 or 65 <= int(age) :\n",
    "    print('무료입니다')\n",
    "else :\n",
    "    print('무료 대상이 아닙니다')\n",
    "\n",
    "\n",
    "# medical_msg = '대상자' if int(age) < 15 or 65 <= int(age) else '대상자 아님'"
   ]
  },
  {
   "cell_type": "code",
   "execution_count": 146,
   "id": "87781546",
   "metadata": {},
   "outputs": [
    {
     "name": "stdout",
     "output_type": "stream",
     "text": [
      "2 단\n",
      "2X1=2 2X2=4 2X3=6 2X4=8 2X5=10 2X6=12 2X7=14 2X8=16 2X9=18 \n",
      "3 단\n",
      "3X1=3 3X2=6 3X3=9 3X4=12 3X5=15 3X6=18 3X7=21 3X8=24 3X9=27 \n",
      "4 단\n",
      "4X1=4 4X2=8 4X3=12 4X4=16 4X5=20 4X6=24 4X7=28 4X8=32 4X9=36 \n",
      "5 단\n",
      "5X1=5 5X2=10 5X3=15 5X4=20 5X5=25 5X6=30 5X7=35 5X8=40 5X9=45 \n",
      "6 단\n",
      "6X1=6 6X2=12 6X3=18 6X4=24 6X5=30 6X6=36 6X7=42 6X8=48 6X9=54 \n",
      "7 단\n",
      "7X1=7 7X2=14 7X3=21 7X4=28 7X5=35 7X6=42 7X7=49 7X8=56 7X9=63 \n",
      "8 단\n",
      "8X1=8 8X2=16 8X3=24 8X4=32 8X5=40 8X6=48 8X7=56 8X8=64 8X9=72 \n",
      "9 단\n",
      "9X1=9 9X2=18 9X3=27 9X4=36 9X5=45 9X6=54 9X7=63 9X8=72 9X9=81 \n"
     ]
    }
   ],
   "source": [
    "# 구구단 : 2~9 단 -> 2~9\n",
    "# 각 단\n",
    "for dan in range(2, 10):\n",
    "    print(f'{dan} 단')\n",
    "    for num in range(1, 10):\n",
    "        print(f'{dan}X{num}={num * dan}', end = ' ')\n",
    "    print()"
   ]
  },
  {
   "cell_type": "code",
   "execution_count": null,
   "id": "80acafe6",
   "metadata": {},
   "outputs": [
    {
     "name": "stdout",
     "output_type": "stream",
     "text": [
      "[3, 9]\n"
     ]
    }
   ],
   "source": [
    "# 리스트의 컴프리헨션\n",
    "# [(표현식) for (변수) in (list) if (조건식)]\n",
    "\n",
    "list_2 = [1, 2, 3, 4]\n",
    "\n",
    "# 결과 리스트\n",
    "list_result = []\n",
    "\n",
    "for num in list_2:\n",
    "    if num%2==1:\n",
    "        list_result.append(num*3)\n",
    "\n",
    "print(list_result)"
   ]
  },
  {
   "cell_type": "code",
   "execution_count": 157,
   "id": "8a9aa8b3",
   "metadata": {},
   "outputs": [
    {
     "name": "stdout",
     "output_type": "stream",
     "text": [
      "[3, 9]\n"
     ]
    }
   ],
   "source": [
    "list_result_1 = [num*3 for num in list_2 if num%2==1]\n",
    "print(list_result_1)\n"
   ]
  },
  {
   "cell_type": "markdown",
   "id": "b7debcbf",
   "metadata": {},
   "source": [
    "### 1부터 100까지의 합을 구하는 프로그램 작성"
   ]
  },
  {
   "cell_type": "code",
   "execution_count": 159,
   "id": "1903bdb7",
   "metadata": {},
   "outputs": [
    {
     "name": "stdout",
     "output_type": "stream",
     "text": [
      "5050\n"
     ]
    }
   ],
   "source": [
    "result = 0\n",
    "for i in range(1,101) :\n",
    "    result += i\n",
    "print(result)"
   ]
  },
  {
   "cell_type": "markdown",
   "id": "290db571",
   "metadata": {},
   "source": [
    "### for 문을 이용하여 1부터 10까지 곱한 결과를 출력하는 프로그램 작성(복합 대입 연산자자)"
   ]
  },
  {
   "cell_type": "code",
   "execution_count": 161,
   "id": "5e1b049b",
   "metadata": {},
   "outputs": [
    {
     "name": "stdout",
     "output_type": "stream",
     "text": [
      "3628800\n"
     ]
    }
   ],
   "source": [
    "result = 1\n",
    "for i in range (1, 11):\n",
    "    result *= i\n",
    "print(result)"
   ]
  },
  {
   "cell_type": "markdown",
   "id": "fdf56281",
   "metadata": {},
   "source": [
    "### 구구단의 짝수 단(2,4,6,8)만 출력하는 프로그램 작성"
   ]
  },
  {
   "cell_type": "code",
   "execution_count": null,
   "id": "5205e98c",
   "metadata": {},
   "outputs": [],
   "source": [
    "for dan in range(1, 10):\n",
    "    if dan%2 == 0 :\n",
    "        for i in range(1, 10):\n",
    "            print(f'{dan}X{i}={i*dan}' ,' ')"
   ]
  },
  {
   "cell_type": "markdown",
   "id": "561e0d37",
   "metadata": {},
   "source": [
    "### while 문을 무한 루프로 구성하여 작성하는 예제\n",
    "1부터 시작해서 모든 짝수와 3의 배수를 더해서 그 합이 언제 1000이 넘어서는지, 그리고 1000이 넘어선 값은 얼마인지"
   ]
  },
  {
   "cell_type": "code",
   "execution_count": 16,
   "id": "f8c6b208",
   "metadata": {},
   "outputs": [
    {
     "name": "stdout",
     "output_type": "stream",
     "text": [
      "1000을 넘은 합: 1055\n",
      "1000을 넘은 시점의 숫자: 56\n"
     ]
    }
   ],
   "source": [
    "# 변수 초기화\n",
    "num = 1\n",
    "sum = 0\n",
    "\n",
    "# while 문으로 조건 설정\n",
    "while sum <= 1000:\n",
    "    # 짝수이거나 3의 배수일 경우 더하기\n",
    "    if num % 2 == 0 or num % 3 == 0:\n",
    "        sum += num\n",
    "    num += 1\n",
    "\n",
    "# while True:\n",
    "#     if num % 2 == 0 or num % 3 == 0:\n",
    "#         sum += num\n",
    "#     if sum > 1000:\n",
    "#         break\n",
    "#     num += 1\n",
    "\n",
    "\n",
    "# 결과 출력\n",
    "print(f\"1000을 넘은 합: {sum}\")\n",
    "print(f\"1000을 넘은 시점의 숫자: {num-1}\")\n",
    "\n",
    "\n"
   ]
  },
  {
   "cell_type": "markdown",
   "id": "4711bb04",
   "metadata": {},
   "source": [
    "# 특정 연도 건강검진 대상 여부 판별 및 검진 종류 확인\n",
    "1. 매개변수로 올해 연도와 태어난 해를 전달 받음\n",
    "2. 20세의 경우 무료로 2년 마다 건강검진 받을 수 있음\n",
    "3. 짝수해에 태어난 사람은 올해가 짝수년이라면 검사대상임\n",
    "4. 40 이상의 경우 암 검사도 무료로 검사할 수 있음"
   ]
  },
  {
   "cell_type": "code",
   "execution_count": 15,
   "id": "88462aee",
   "metadata": {},
   "outputs": [
    {
     "name": "stdout",
     "output_type": "stream",
     "text": [
      "검진 대상자입니다\n",
      "암 검진 대상자 입니다.\n"
     ]
    }
   ],
   "source": [
    "this_year = int(input('올해 연도를 입력하세요'))\n",
    "born_year = int(input('태어난 연도를 입력하세요'))\n",
    "age = this_year - born_year + 1\n",
    "\n",
    "if age > 20 and this_year % 2 == born_year % 2 :\n",
    "    print('검진 대상자입니다')\n",
    "    if age >= 40:\n",
    "        print('암 검진 대상자 입니다.')\n",
    "elif age == 20:\n",
    "    print('성인이 되신걸 축하합니다. 건강검진 받으세요요')\n",
    "else:\n",
    "    print('검진 대상이 아닙니다')\n",
    "\n"
   ]
  },
  {
   "cell_type": "markdown",
   "id": "6a22d16f",
   "metadata": {},
   "source": [
    "### 함수 2025.06.11"
   ]
  },
  {
   "cell_type": "code",
   "execution_count": null,
   "id": "84774720",
   "metadata": {},
   "outputs": [
    {
     "name": "stdout",
     "output_type": "stream",
     "text": [
      "(1, 2, 3, 4)\n",
      "[1, 2, 3, 4]\n"
     ]
    },
    {
     "data": {
      "text/plain": [
       "4"
      ]
     },
     "execution_count": 21,
     "metadata": {},
     "output_type": "execute_result"
    }
   ],
   "source": []
  },
  {
   "cell_type": "code",
   "execution_count": null,
   "id": "c7ae6bcf",
   "metadata": {},
   "outputs": [],
   "source": []
  }
 ],
 "metadata": {
  "kernelspec": {
   "display_name": ".venv",
   "language": "python",
   "name": "python3"
  },
  "language_info": {
   "codemirror_mode": {
    "name": "ipython",
    "version": 3
   },
   "file_extension": ".py",
   "mimetype": "text/x-python",
   "name": "python",
   "nbconvert_exporter": "python",
   "pygments_lexer": "ipython3",
   "version": "3.13.4"
  }
 },
 "nbformat": 4,
 "nbformat_minor": 5
}
