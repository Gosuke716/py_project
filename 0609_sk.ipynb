{
 "cells": [
  {
   "cell_type": "markdown",
   "id": "ee6c78d7",
   "metadata": {},
   "source": [
    "### 2025년 6월 9일 SK 쉴더스 루키즈 파이썬"
   ]
  },
  {
   "cell_type": "code",
   "execution_count": 5,
   "id": "4e13315a",
   "metadata": {},
   "outputs": [
    {
     "name": "stdout",
     "output_type": "stream",
     "text": [
      "안녕하세요\n",
      "100\n"
     ]
    }
   ],
   "source": [
    "print('안녕하세요')\n",
    "print(100)"
   ]
  },
  {
   "cell_type": "code",
   "execution_count": 2,
   "id": "a70285a6",
   "metadata": {},
   "outputs": [],
   "source": [
    "#주석 => 코드 내부에 사용, 코드로 인식 x, 간단한 메모모\n",
    "#변수 => 데이터를 저장(메모리: 플래시 메모리(RAM)) 하는 방식\n",
    "#변수 이름(식별자) = 값(데이터: 숫자, 문자열, 논리값(true,false), 객체)\n",
    "#변수에는 데이터를 저장하고 있는 메모리의 주소값을 저장\n",
    "num = 10\n"
   ]
  },
  {
   "cell_type": "code",
   "execution_count": 3,
   "id": "7f32d56d",
   "metadata": {},
   "outputs": [
    {
     "name": "stdout",
     "output_type": "stream",
     "text": [
      "10\n"
     ]
    }
   ],
   "source": [
    "print(num)"
   ]
  },
  {
   "cell_type": "code",
   "execution_count": null,
   "id": "cd52304e",
   "metadata": {},
   "outputs": [
    {
     "data": {
      "text/plain": [
       "140727223862472"
      ]
     },
     "execution_count": 10,
     "metadata": {},
     "output_type": "execute_result"
    }
   ],
   "source": [
    "id(num)\n",
    "#id라는 함수는 메모리의 주소값을 반환해주는 역할임"
   ]
  },
  {
   "cell_type": "code",
   "execution_count": 11,
   "id": "663b084b",
   "metadata": {},
   "outputs": [
    {
     "data": {
      "text/plain": [
       "110"
      ]
     },
     "execution_count": 11,
     "metadata": {},
     "output_type": "execute_result"
    }
   ],
   "source": [
    "num + 100"
   ]
  },
  {
   "cell_type": "code",
   "execution_count": 13,
   "id": "bb4f8225",
   "metadata": {},
   "outputs": [],
   "source": [
    "# 변수 = 데이터\n",
    "# 데이터 => 숫자, 문자, 논리값, 객체\n",
    "# 숫자 => 정수, 실수\n",
    "num1 = 10\n",
    "num2 = 3.14"
   ]
  },
  {
   "cell_type": "code",
   "execution_count": 19,
   "id": "0448f7c2",
   "metadata": {},
   "outputs": [
    {
     "name": "stdout",
     "output_type": "stream",
     "text": [
      "<class 'int'>\n",
      "<class 'float'>\n"
     ]
    }
   ],
   "source": [
    "# type은은 이 함수의 자료형이 무엇인지 알려주는 함수\n",
    "print(type(num1))\n",
    "print(type(num2))"
   ]
  },
  {
   "cell_type": "code",
   "execution_count": 22,
   "id": "286386a8",
   "metadata": {},
   "outputs": [
    {
     "name": "stdout",
     "output_type": "stream",
     "text": [
      "hello\n",
      "<class 'str'>\n"
     ]
    }
   ],
   "source": [
    "num3 = 'hello'\n",
    "print(num3)\n",
    "print(type(num3))"
   ]
  },
  {
   "cell_type": "code",
   "execution_count": 26,
   "id": "b8847292",
   "metadata": {},
   "outputs": [
    {
     "name": "stdout",
     "output_type": "stream",
     "text": [
      "True <class 'bool'>\n",
      "False <class 'bool'>\n"
     ]
    }
   ],
   "source": [
    "# 논리값 : True, False *대문자 유의할 것\n",
    "check1 = True\n",
    "check2 = False\n",
    "print(check1, type(check1))\n",
    "print(check2, type(check2))"
   ]
  },
  {
   "cell_type": "code",
   "execution_count": null,
   "id": "3f689524",
   "metadata": {},
   "outputs": [
    {
     "name": "stdout",
     "output_type": "stream",
     "text": [
      "PYTHON\n",
      "python\n"
     ]
    }
   ],
   "source": [
    "#객체에는 변수들과 함수(메서드)들을 저장해놓음\n",
    "str_a = 'python'\n",
    "print(str_a.upper())\n",
    "str_a_a = 'PYTHON'\n",
    "print(str_a_a.lower())\n",
    "# 주소값.메서드\n",
    "#upper는 대문자로 변환해주는 함수, lower는 소문자로 변환해주는 함수"
   ]
  },
  {
   "cell_type": "code",
   "execution_count": 32,
   "id": "d9c6409f",
   "metadata": {},
   "outputs": [
    {
     "name": "stdout",
     "output_type": "stream",
     "text": [
      "100 <class 'int'>\n"
     ]
    }
   ],
   "source": [
    "str_a = 100 \n",
    "print(str_a, type(str_a))"
   ]
  },
  {
   "cell_type": "code",
   "execution_count": 51,
   "id": "4d5da84a",
   "metadata": {},
   "outputs": [],
   "source": [
    "#문자열열\n",
    "str_1 = 'hello~'\n",
    "str_2 = '안녕하세요'\n",
    "str_3 = '''첫째라인\n",
    "안녕하세세요\n",
    "반갑습니다.\n",
    "'''\n",
    "str_4 = \"\"\"\n",
    "select *\n",
    "from emp\n",
    "where empno=10\n",
    "\"\"\""
   ]
  },
  {
   "cell_type": "code",
   "execution_count": 52,
   "id": "32e6a27a",
   "metadata": {},
   "outputs": [
    {
     "name": "stdout",
     "output_type": "stream",
     "text": [
      "hello~ <class 'str'>\n",
      "안녕하세요 <class 'str'>\n",
      "첫째라인\n",
      "안녕하세세요\n",
      "반갑습니다.\n",
      " <class 'str'>\n",
      "\n",
      "select *\n",
      "from emp\n",
      "where empno=10\n",
      " <class 'str'>\n"
     ]
    }
   ],
   "source": [
    "print(str_1, type(str_1))\n",
    "print(str_2, type(str_2))\n",
    "print(str_3, type(str_3))\n",
    "print(str_4, type(str_4))"
   ]
  },
  {
   "cell_type": "code",
   "execution_count": 44,
   "id": "7e81d73d",
   "metadata": {},
   "outputs": [
    {
     "name": "stdout",
     "output_type": "stream",
     "text": [
      "hello python!\n",
      "==========\n"
     ]
    }
   ],
   "source": [
    "# 문자열의 연산 => 사칙연산이 아니라 연결이다.\n",
    "# 곱셈은 n번 반복이다.\n",
    "print('hello'+' python!')\n",
    "print('=' * 10)\n",
    "\n"
   ]
  },
  {
   "cell_type": "code",
   "execution_count": null,
   "id": "a5ff5e22",
   "metadata": {},
   "outputs": [
    {
     "name": "stdout",
     "output_type": "stream",
     "text": [
      "6\n"
     ]
    },
    {
     "data": {
      "text/plain": [
       "5"
      ]
     },
     "execution_count": 53,
     "metadata": {},
     "output_type": "execute_result"
    }
   ],
   "source": [
    "# 함수(기능): 데이터 전달하면 -> 처리(연산) -> 값을 반환\n",
    "# 문자열의 길이를 반환하는 함수 : len(변수: 시퀀스 형식의 데이터(리스트, 튜플))\n",
    "\n",
    "print(len(str_1))\n",
    "print(len(str_2))"
   ]
  },
  {
   "cell_type": "code",
   "execution_count": 57,
   "id": "89dbdfdb",
   "metadata": {},
   "outputs": [],
   "source": [
    "# 문자열: 시퀀스 데이터 => 순서가 있다.\n",
    "# 시퀀스 데이터의 데이터들의 구분 => index 값으로 처리\n",
    "# hello => ['h', 'e', 'l', 'l', 'o']\n",
    "# index =>  0     1    2    3    4   => 0 ~ N-1 => 0 ~ 4\n",
    "str_5 = 'hello~ python!!'"
   ]
  },
  {
   "cell_type": "code",
   "execution_count": 62,
   "id": "b0e0ef7d",
   "metadata": {},
   "outputs": [
    {
     "name": "stdout",
     "output_type": "stream",
     "text": [
      "p\n"
     ]
    }
   ],
   "source": [
    "str_5[0]\n",
    "print(str_5[7])"
   ]
  },
  {
   "cell_type": "code",
   "execution_count": 64,
   "id": "74537bdc",
   "metadata": {},
   "outputs": [
    {
     "data": {
      "text/plain": [
       "'hello'"
      ]
     },
     "execution_count": 64,
     "metadata": {},
     "output_type": "execute_result"
    }
   ],
   "source": [
    "# 문자열(시퀀스)의 슬라이싱\n",
    "# s[시작 index : 종료 index] => 종료 index 값을 만나면 탈출\n",
    "str_5[0 : 5]"
   ]
  },
  {
   "cell_type": "code",
   "execution_count": 76,
   "id": "d33837ae",
   "metadata": {},
   "outputs": [
    {
     "name": "stdout",
     "output_type": "stream",
     "text": [
      "나의 이름은 홍길동입니다. 나이는 30입니다.\n"
     ]
    }
   ],
   "source": [
    "# 문자열 포맷팅\n",
    "# 3.6 버전 이후 f\"\"  , 접두사 f 붙이고 포맷팅\n",
    "user_name = '홍길동'\n",
    "user_age = 30\n",
    "print(f'나의 이름은 {user_name}입니다. 나이는 {user_age}입니다.')"
   ]
  },
  {
   "cell_type": "code",
   "execution_count": 79,
   "id": "a666b047",
   "metadata": {},
   "outputs": [
    {
     "name": "stdout",
     "output_type": "stream",
     "text": [
      "내년에는 나이가 31살이 됩니다.\n"
     ]
    }
   ],
   "source": [
    "print(f'내년에는 나이가 {user_age+1}살이 됩니다.')"
   ]
  },
  {
   "cell_type": "markdown",
   "id": "728661f4",
   "metadata": {},
   "source": [
    "### 연습문제 1\n",
    "과목별 점수, 총점, 평균점수 출력\n",
    "과목: 국어, 영어, 수학"
   ]
  },
  {
   "cell_type": "code",
   "execution_count": 83,
   "id": "36075aa4",
   "metadata": {},
   "outputs": [
    {
     "name": "stdout",
     "output_type": "stream",
     "text": [
      "각각의 점수는 국어:100점, 영어:90점, 수학:80점이며, 총점은 270점, 평균은 90.0점 입니다.\n"
     ]
    }
   ],
   "source": [
    "### 과목별 점수의 총합과 평균 및 총점과 평균 출력력\n",
    "korean = 100\n",
    "english = 90\n",
    "math = 80\n",
    "sum = korean + english + math\n",
    "avg = (korean + english + math) / 3\n",
    "print(f'각각의 점수는 국어:{korean}점, 영어:{english}점, 수학:{math}점이며, 총점은 {sum}점, 평균은 {avg}점 입니다.')"
   ]
  },
  {
   "cell_type": "markdown",
   "id": "d3932119",
   "metadata": {},
   "source": [
    "### 연습문제2\n",
    "성별이 남성이고 18세 이상의 성인 여부를 판단하는 조건식"
   ]
  },
  {
   "cell_type": "code",
   "execution_count": 92,
   "id": "615530d1",
   "metadata": {},
   "outputs": [
    {
     "name": "stdout",
     "output_type": "stream",
     "text": [
      "성인 남성 체크: True\n"
     ]
    }
   ],
   "source": [
    "# 성별이 남성이고 18세 이상의 성인 여부를 판단하는 조건식\n",
    "# 1. 변수\n",
    "\n",
    "gender = 'male' # 성별 : 'male' | 'female'\n",
    "age = 20\n",
    "\n",
    "#남성 그리고 성인\n",
    "check = gender == 'male' and age >= 18\n",
    "\n",
    "print('성인 남성 체크:', check)"
   ]
  },
  {
   "cell_type": "code",
   "execution_count": 105,
   "id": "3ed196b2",
   "metadata": {},
   "outputs": [
    {
     "name": "stdout",
     "output_type": "stream",
     "text": [
      "[1, 2, 3] <class 'list'>\n",
      "1\n"
     ]
    }
   ],
   "source": [
    "# 리스트 : [] => 순서를 가지는 데이터 묶음\n",
    "# index 값으로 요소들을 참조 => 0 ~ N(요소의 개수) - 1\n",
    "list_a = [1,2,3]\n",
    "#index    0 1 2\n",
    "# 요소의 개수 : 3\n",
    "\n",
    "print(list_a, type(list_a))\n",
    "\n",
    "#요소의 참조\n",
    "print(list_a[0])"
   ]
  },
  {
   "cell_type": "code",
   "execution_count": null,
   "id": "7d1d1fef",
   "metadata": {},
   "outputs": [
    {
     "data": {
      "text/plain": [
       "[1, 2, 4]"
      ]
     },
     "execution_count": 106,
     "metadata": {},
     "output_type": "execute_result"
    }
   ],
   "source": [
    "#요소의 값 바꾸기\n",
    "list_a[2] = 4\n",
    "\n",
    "list_a"
   ]
  }
 ],
 "metadata": {
  "kernelspec": {
   "display_name": ".venv",
   "language": "python",
   "name": "python3"
  },
  "language_info": {
   "codemirror_mode": {
    "name": "ipython",
    "version": 3
   },
   "file_extension": ".py",
   "mimetype": "text/x-python",
   "name": "python",
   "nbconvert_exporter": "python",
   "pygments_lexer": "ipython3",
   "version": "3.13.4"
  }
 },
 "nbformat": 4,
 "nbformat_minor": 5
}
