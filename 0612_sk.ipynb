{
 "cells": [
  {
   "cell_type": "markdown",
   "id": "f478afec",
   "metadata": {},
   "source": [
    "### 2025년 06월 12일 SK 쉴더스 루키즈 파이썬 "
   ]
  },
  {
   "cell_type": "code",
   "execution_count": null,
   "id": "3eaab980",
   "metadata": {},
   "outputs": [],
   "source": [
    "# 객체 지향 프로그래밍 : 객체의 개념을 프로그래밍에 도입\n",
    "# 객체 : 변수들과 함수들로 구성 => 메모리에 올라가 있는 상태\n",
    "# 클래스 : 변수들과 함수들이 어떻게 구성되는지의 설계도 -> 변수들을 정의, 함수들을 정의\n",
    "# => 클래스만 정의했다 -> 사용 X, 클래스를 이용해서 객체로 만들어야 사용가능\n",
    "# class 클래스 이름: \n",
    "#       변수와 함수들을 정의\n",
    "# 객체 생성 => 변수 = 클래스 이름()\n",
    "# 객체 활용 => 변수.객체가 가지는 변수 / 변수.메서드()   메서드: 객체가 가지는 함수"
   ]
  },
  {
   "cell_type": "code",
   "execution_count": 6,
   "id": "e961915d",
   "metadata": {},
   "outputs": [
    {
     "name": "stdout",
     "output_type": "stream",
     "text": [
      "2020222975152 <class '__main__.Cookie'>\n",
      "2020222675024 <class '__main__.Cookie'>\n"
     ]
    }
   ],
   "source": [
    "# 클래스 정의\n",
    "class Cookie:\n",
    "    pass\n",
    "\n",
    "# 객체 생성\n",
    "c1 = Cookie()\n",
    "c2 = Cookie()\n",
    "\n",
    "print(id(c1), type(c1))\n",
    "print(id(c2), type(c2))"
   ]
  },
  {
   "cell_type": "code",
   "execution_count": 19,
   "id": "66a9e803",
   "metadata": {},
   "outputs": [
    {
     "name": "stdout",
     "output_type": "stream",
     "text": [
      "10 3\n",
      "13 7 30 3.3333333333333335\n"
     ]
    }
   ],
   "source": [
    "# 사칙연산을 하는 클래스 정의: 클래스 이름, 변수, 함수\n",
    "# 변수는 두개, 함수(메서드) 4개\n",
    "\n",
    "class FourCal:\n",
    "    \n",
    "    # 초기화(변수 선언 -> 최초 데이터를 할당) 메서드\n",
    "    # 필요한 변수들의 생성, 값을 초기화\n",
    "    def __init__(self, first, second): # 초기화 메서드\n",
    "        self.first = first\n",
    "        self.second = second\n",
    "\n",
    "    # 클래스에서 함수를 정의할 때에는 반드시 self 매개변수를 받아야한다.\n",
    "    # self = 객체 자신을 가리키는 변수\n",
    "    def setdata(self, first, second):\n",
    "        self.first = first\n",
    "        self.second = second\n",
    "    \n",
    "    # 사칙 연산 함수들들\n",
    "    def add(self):\n",
    "        return self.first + self.second\n",
    "    \n",
    "    def sub(self):\n",
    "        return self.first - self.second\n",
    "    \n",
    "    def mul(self):\n",
    "        return self.first * self.second\n",
    "    \n",
    "    def div(self):\n",
    "        return self.first / self.second\n",
    "\n",
    "\n",
    "# cal_1 = FourCal()\n",
    "# type(cal_1)\n",
    "# cal_1.setdata(10,20)\n",
    "# print(cal_1.first, cal_1.second)\n",
    "\n",
    "# cal_2 = FourCal(10, 20)\n",
    "# print(cal_2.first, cal_2.second)\n",
    "\n",
    "cal_3 = FourCal(10, 3)\n",
    "print(cal_3.first, cal_3.second)\n",
    "print(cal_3.add(), cal_3.sub(), cal_3.mul(), cal_3.div())\n",
    "\n",
    "\n",
    "\n"
   ]
  },
  {
   "cell_type": "code",
   "execution_count": 26,
   "id": "a91344bc",
   "metadata": {},
   "outputs": [
    {
     "name": "stdout",
     "output_type": "stream",
     "text": [
      "성적표 --------------------\n",
      "이름 : 홍길동 (123)\n",
      "국어:  100\n",
      "영어:  90\n",
      "수학:  80\n",
      "총점:  270\n",
      "평균:  90.0\n"
     ]
    }
   ],
   "source": [
    "# 학생 class 생성 -> 객체 생성\n",
    "# 학생: 학번, 이름, 국어점수, 영어점수, 수학점수\n",
    "# 기능: 전체 데이터 출력하는 메서드 (이름, 학번, 총점, 평균균)\n",
    "#       총점 계산 메서드\n",
    "#       평균 계산 메서드\n",
    "# 시뮬레이션: 테스트 학생 데이터 생성 -> 결과 출력력\n",
    "\n",
    "class Student:\n",
    "    def __init__(self, name, sno, kor, eng, math):\n",
    "        self.name = name\n",
    "        self.sno = sno\n",
    "        self.kor = kor\n",
    "        self.eng = eng\n",
    "        self.math = math\n",
    "\n",
    "    def total_score(self):\n",
    "        return self.kor + self.eng + self.math\n",
    "    \n",
    "    def avg_score(self):\n",
    "        return (self.kor + self.eng + self.math) / 3\n",
    "    \n",
    "    def print_all(self):\n",
    "        result = [self.name, self.sno, self.total_score(), self.avg_score()]\n",
    "        return result\n",
    "    def print_result(self):\n",
    "        print('성적표', '-' * 20)\n",
    "        print(f'이름 : {self.name} ({self.sno})')\n",
    "        print('국어: ', self.kor)\n",
    "        print('영어: ', self.eng)\n",
    "        print('수학: ', self.math)\n",
    "        print('총점: ', self.total_score())\n",
    "        print('평균: ', self.avg_score())\n",
    "\n",
    "student1 = Student('홍길동', 123, 100, 90, 80)\n",
    "student1.print_all()\n",
    "student1.print_result()\n",
    "   "
   ]
  },
  {
   "cell_type": "code",
   "execution_count": 30,
   "id": "9ebe5ab0",
   "metadata": {},
   "outputs": [
    {
     "name": "stdout",
     "output_type": "stream",
     "text": [
      "성적표 --------------------\n",
      "이름 : 홍길동1 (1234)\n",
      "국어:  100\n",
      "영어:  90\n",
      "수학:  80\n",
      "총점:  270\n",
      "평균:  90.0\n",
      "성적표 --------------------\n",
      "이름 : 홍길동2 (1235)\n",
      "국어:  100\n",
      "영어:  90\n",
      "수학:  80\n",
      "총점:  270\n",
      "평균:  90.0\n",
      "성적표 --------------------\n",
      "이름 : 홍길동3 (1236)\n",
      "국어:  100\n",
      "영어:  90\n",
      "수학:  80\n",
      "총점:  270\n",
      "평균:  90.0\n",
      "성적표 --------------------\n",
      "이름 : 홍길동4 (1237)\n",
      "국어:  100\n",
      "영어:  90\n",
      "수학:  80\n",
      "총점:  270\n",
      "평균:  90.0\n",
      "성적표 --------------------\n",
      "이름 : 홍길동5 (1238)\n",
      "국어:  100\n",
      "영어:  90\n",
      "수학:  80\n",
      "총점:  270\n",
      "평균:  90.0\n"
     ]
    }
   ],
   "source": [
    "students = [\n",
    "    Student('홍길동1', 1234, 100, 90, 80),\n",
    "    Student('홍길동2', 1235, 100, 90, 80),\n",
    "    Student('홍길동3', 1236, 100, 90, 80),\n",
    "    Student('홍길동4', 1237, 100, 90, 80),\n",
    "    Student('홍길동5', 1238, 100, 90, 80),\n",
    "]\n",
    "\n",
    "for s in students :\n",
    "    s.print_result()"
   ]
  },
  {
   "cell_type": "code",
   "execution_count": null,
   "id": "ac36b69f",
   "metadata": {},
   "outputs": [
    {
     "name": "stdout",
     "output_type": "stream",
     "text": [
      "100\n",
      "0\n",
      "1\n"
     ]
    }
   ],
   "source": [
    "# 클래스 상속: 새로운 클래스를 만들 때 기존의 클래스의 멤버들을 받아서 생성하는 방법\n",
    "# class 클래스 이름(부모 클래스)\n",
    "class MoreFourCal(FourCal) :\n",
    "    def pow(self):\n",
    "        return self.first** self.second # first의 second 승(제곱 의 계산)\n",
    "    \n",
    "    def div(self):\n",
    "        if self.second == 0 :\n",
    "            return 0\n",
    "        else: \n",
    "            return self.first / self.second\n",
    "\n",
    "mcal_1 = MoreFourCal(100,0)\n",
    "print(mcal_1.add())\n",
    "print(mcal_1.div())\n",
    "print(mcal_1.pow())"
   ]
  },
  {
   "cell_type": "code",
   "execution_count": 7,
   "id": "f02f6ca0",
   "metadata": {},
   "outputs": [
    {
     "name": "stdout",
     "output_type": "stream",
     "text": [
      "[1 2 3 4 5] <class 'numpy.ndarray'>\n"
     ]
    },
    {
     "data": {
      "text/plain": [
       "array([11, 12, 13, 14, 15])"
      ]
     },
     "execution_count": 7,
     "metadata": {},
     "output_type": "execute_result"
    }
   ],
   "source": [
    "import numpy as np\n",
    "\n",
    "arr = np.array([1,2,3,4,5])\n",
    "print(arr, type(arr))\n",
    "arr + 10"
   ]
  },
  {
   "cell_type": "code",
   "execution_count": 11,
   "id": "81071eb8",
   "metadata": {},
   "outputs": [
    {
     "name": "stdout",
     "output_type": "stream",
     "text": [
      "[[0. 0. 0.]]\n"
     ]
    }
   ],
   "source": [
    "# 배열의 생성\n",
    "# 0 으로 채워지는 배열 생성\n",
    "\n",
    "zeros = np.zeros((1,3))\n",
    "print(zeros)"
   ]
  },
  {
   "cell_type": "code",
   "execution_count": 16,
   "id": "b907a096",
   "metadata": {},
   "outputs": [
    {
     "name": "stdout",
     "output_type": "stream",
     "text": [
      "[[1. 1. 1. 1.]\n",
      " [1. 1. 1. 1.]\n",
      " [1. 1. 1. 1.]]\n"
     ]
    }
   ],
   "source": [
    "# 1로 채워지는 배열\n",
    "ones = np.ones((3,4))\n",
    "print(ones)"
   ]
  },
  {
   "cell_type": "code",
   "execution_count": 18,
   "id": "8f5193a0",
   "metadata": {},
   "outputs": [
    {
     "name": "stdout",
     "output_type": "stream",
     "text": [
      "[0 2 4 6 8]\n"
     ]
    }
   ],
   "source": [
    "# 일련번호 생성되는 배열\n",
    "# 0~ 10 사이의 숫자를 2씩 간격으로 생성\n",
    "seq_1 = np.arange(0, 10, 2)\n",
    "print(seq_1)"
   ]
  },
  {
   "cell_type": "code",
   "execution_count": 22,
   "id": "29f2ecee",
   "metadata": {},
   "outputs": [
    {
     "name": "stdout",
     "output_type": "stream",
     "text": [
      "[ 1.  4.  7. 10.]\n"
     ]
    }
   ],
   "source": [
    "# 지정된 범위 안에서 동일한 간격으로 숫자를 생성\n",
    "# 0~1 5개로 구분\n",
    "\n",
    "linspace = np.linspace(1, 10, 4)\n",
    "print(linspace)"
   ]
  },
  {
   "cell_type": "code",
   "execution_count": null,
   "id": "96c18a90",
   "metadata": {},
   "outputs": [
    {
     "name": "stdout",
     "output_type": "stream",
     "text": [
      "<class 'numpy.ndarray'>\n",
      "(3, 3)\n",
      "2\n",
      "9\n",
      "int64\n"
     ]
    }
   ],
   "source": [
    "# 배열의 속성 확인\n",
    "arr1 = np.array([[1,2,3], [4,5,6],[7,8,9]])\n",
    "print(type(arr1)) # 넘파이 배열\n",
    "print(arr1.shape) # 배열의 크기 (행, 열)\n",
    "print(arr1.ndim) # 배열의 차원\n",
    "print(arr1.size) # 요소의 개수\n",
    "print(arr1.dtype) # int64 배열 원소의 데이터 타입\n"
   ]
  },
  {
   "cell_type": "code",
   "execution_count": null,
   "id": "6ca34ea4",
   "metadata": {},
   "outputs": [],
   "source": []
  }
 ],
 "metadata": {
  "kernelspec": {
   "display_name": ".venv",
   "language": "python",
   "name": "python3"
  },
  "language_info": {
   "codemirror_mode": {
    "name": "ipython",
    "version": 3
   },
   "file_extension": ".py",
   "mimetype": "text/x-python",
   "name": "python",
   "nbconvert_exporter": "python",
   "pygments_lexer": "ipython3",
   "version": "3.13.4"
  }
 },
 "nbformat": 4,
 "nbformat_minor": 5
}
