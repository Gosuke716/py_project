{
 "cells": [
  {
   "cell_type": "markdown",
   "id": "038b6651",
   "metadata": {},
   "source": [
    "### 데이터 전처리 EX-5"
   ]
  },
  {
   "cell_type": "code",
   "execution_count": 1,
   "id": "a07296cc",
   "metadata": {},
   "outputs": [],
   "source": [
    "import pandas as pd\n",
    "from sklearn.preprocessing import StandardScaler"
   ]
  },
  {
   "cell_type": "code",
   "execution_count": 2,
   "id": "4e539b8b",
   "metadata": {},
   "outputs": [],
   "source": [
    "# 데이터 불러오기\n",
    "df = pd.read_csv('winequality-red.csv') "
   ]
  },
  {
   "cell_type": "code",
   "execution_count": 3,
   "id": "76bab854",
   "metadata": {},
   "outputs": [],
   "source": [
    "# 스케일링 대상 열\n",
    "cols = ['fixed acidity', 'volatile acidity', 'citric acid', 'residual sugar', 'chlorides']"
   ]
  },
  {
   "cell_type": "code",
   "execution_count": 4,
   "id": "6c767adc",
   "metadata": {},
   "outputs": [],
   "source": [
    "# 데이터 스케일링\n",
    "scaler = StandardScaler() # 스케일러 생성\n",
    "scaled_data = scaler.fit_transform(df[cols]) # 훈련데이터 스케일링"
   ]
  },
  {
   "cell_type": "code",
   "execution_count": 5,
   "id": "44a9ddce",
   "metadata": {},
   "outputs": [
    {
     "name": "stdout",
     "output_type": "stream",
     "text": [
      "[[-0.52835961  0.96187667 -1.39147228 -0.45321841 -0.24370669]\n",
      " [-0.29854743  1.96744245 -1.39147228  0.04341614  0.2238752 ]\n",
      " [-0.29854743  1.29706527 -1.18607043 -0.16942723  0.09635286]\n",
      " ...\n",
      " [-1.1603431  -0.09955388 -0.72391627 -0.16942723 -0.24370669]\n",
      " [-1.39015528  0.65462046 -0.77526673 -0.38227061 -0.26496041]\n",
      " [-1.33270223 -1.21684919  1.02199944  0.75289408 -0.43499018]]\n"
     ]
    }
   ],
   "source": [
    "# 표준화된 데이터 출력\n",
    "print(scaled_data)"
   ]
  },
  {
   "cell_type": "code",
   "execution_count": null,
   "id": "ae92e685",
   "metadata": {},
   "outputs": [],
   "source": []
  },
  {
   "cell_type": "code",
   "execution_count": null,
   "id": "d2876f60",
   "metadata": {},
   "outputs": [],
   "source": []
  },
  {
   "cell_type": "code",
   "execution_count": null,
   "id": "0a107241",
   "metadata": {},
   "outputs": [],
   "source": []
  }
 ],
 "metadata": {
  "kernelspec": {
   "display_name": ".venv",
   "language": "python",
   "name": "python3"
  },
  "language_info": {
   "codemirror_mode": {
    "name": "ipython",
    "version": 3
   },
   "file_extension": ".py",
   "mimetype": "text/x-python",
   "name": "python",
   "nbconvert_exporter": "python",
   "pygments_lexer": "ipython3",
   "version": "3.13.4"
  }
 },
 "nbformat": 4,
 "nbformat_minor": 5
}
